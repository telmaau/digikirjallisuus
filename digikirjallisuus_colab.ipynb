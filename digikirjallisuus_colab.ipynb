{
 "cells": [
  {
   "cell_type": "markdown",
   "metadata": {},
   "source": [
    "# Kielen ja kirjallisuuden digitaalista analyysia"
   ]
  },
  {
   "cell_type": "markdown",
   "metadata": {},
   "source": [
    "*teknisiä valmisteluja..*"
   ]
  },
  {
   "cell_type": "code",
   "execution_count": 4,
   "metadata": {
    "colab": {
     "base_uri": "https://localhost:8080/"
    },
    "id": "uqU7sY02njXH",
    "outputId": "06aa421e-43ab-41f5-ce01-38a2ef01e859",
    "scrolled": true
   },
   "outputs": [
    {
     "name": "stdout",
     "output_type": "stream",
     "text": [
      "Collecting fi-core-news-sm==3.3.0\n",
      "  Downloading https://github.com/explosion/spacy-models/releases/download/fi_core_news_sm-3.3.0/fi_core_news_sm-3.3.0-py3-none-any.whl (14.3 MB)\n",
      "\u001b[2K     \u001b[38;2;249;38;114m━━━━━━━━━━━━━━━━━━━━━━━━━━\u001b[0m\u001b[38;5;237m╺\u001b[0m\u001b[38;5;237m━━━━━━━━━━━━━\u001b[0m \u001b[32m9.4/14.3 MB\u001b[0m \u001b[31m366.5 kB/s\u001b[0m eta \u001b[36m0:00:14\u001b[0m^C4\u001b[0m\n",
      "\u001b[2K     \u001b[38;2;249;38;114m━━━━━━━━━━━━━━━━━━━━━━━━━━\u001b[0m\u001b[38;5;237m╺\u001b[0m\u001b[38;5;237m━━━━━━━━━━━━━\u001b[0m \u001b[32m9.4/14.3 MB\u001b[0m \u001b[31m366.5 kB/s\u001b[0m eta \u001b[36m0:00:14\u001b[0m\n",
      "\u001b[?25h\u001b[31mERROR: Operation cancelled by user\u001b[0m\u001b[31m\n",
      "\u001b[0m\n",
      "\u001b[1m[\u001b[0m\u001b[34;49mnotice\u001b[0m\u001b[1;39;49m]\u001b[0m\u001b[39;49m A new release of pip available: \u001b[0m\u001b[31;49m22.2.2\u001b[0m\u001b[39;49m -> \u001b[0m\u001b[32;49m22.3\u001b[0m\n",
      "\u001b[1m[\u001b[0m\u001b[34;49mnotice\u001b[0m\u001b[1;39;49m]\u001b[0m\u001b[39;49m To update, run: \u001b[0m\u001b[32;49mpip install --upgrade pip\u001b[0m\n",
      "\n",
      "Aborted!\n",
      "Requirement already satisfied: advertools in /u/98/peurat1/unix/kirjasampo/benv/lib/python3.8/site-packages (0.13.2)\n",
      "Requirement already satisfied: pyarrow>=5.0.0 in /u/98/peurat1/unix/kirjasampo/benv/lib/python3.8/site-packages (from advertools) (9.0.0)\n",
      "Requirement already satisfied: twython>=3.8.0 in /u/98/peurat1/unix/kirjasampo/benv/lib/python3.8/site-packages (from advertools) (3.9.1)\n",
      "Requirement already satisfied: scrapy>=2.5.0 in /u/98/peurat1/unix/kirjasampo/benv/lib/python3.8/site-packages (from advertools) (2.7.0)\n",
      "Requirement already satisfied: pyasn1>=0.4 in /u/98/peurat1/unix/kirjasampo/benv/lib/python3.8/site-packages (from advertools) (0.4.8)\n",
      "Requirement already satisfied: pandas>=1.1.0 in /u/98/peurat1/unix/kirjasampo/benv/lib/python3.8/site-packages (from advertools) (1.4.2)\n",
      "Requirement already satisfied: python-dateutil>=2.8.1 in /u/98/peurat1/unix/kirjasampo/benv/lib/python3.8/site-packages (from pandas>=1.1.0->advertools) (2.8.2)\n",
      "Requirement already satisfied: pytz>=2020.1 in /u/98/peurat1/unix/kirjasampo/benv/lib/python3.8/site-packages (from pandas>=1.1.0->advertools) (2022.1)\n",
      "Requirement already satisfied: numpy>=1.18.5 in /u/98/peurat1/unix/kirjasampo/benv/lib/python3.8/site-packages (from pandas>=1.1.0->advertools) (1.22.4)\n",
      "Requirement already satisfied: PyDispatcher>=2.0.5 in /u/98/peurat1/unix/kirjasampo/benv/lib/python3.8/site-packages (from scrapy>=2.5.0->advertools) (2.0.6)\n",
      "Requirement already satisfied: cssselect>=0.9.1 in /u/98/peurat1/unix/kirjasampo/benv/lib/python3.8/site-packages (from scrapy>=2.5.0->advertools) (1.1.0)\n",
      "Requirement already satisfied: setuptools in /u/98/peurat1/unix/kirjasampo/benv/lib/python3.8/site-packages (from scrapy>=2.5.0->advertools) (63.1.0)\n",
      "Requirement already satisfied: service-identity>=18.1.0 in /u/98/peurat1/unix/kirjasampo/benv/lib/python3.8/site-packages (from scrapy>=2.5.0->advertools) (21.1.0)\n",
      "Requirement already satisfied: w3lib>=1.17.0 in /u/98/peurat1/unix/kirjasampo/benv/lib/python3.8/site-packages (from scrapy>=2.5.0->advertools) (2.0.1)\n",
      "Requirement already satisfied: itemloaders>=1.0.1 in /u/98/peurat1/unix/kirjasampo/benv/lib/python3.8/site-packages (from scrapy>=2.5.0->advertools) (1.0.6)\n",
      "Requirement already satisfied: lxml>=4.3.0 in /u/98/peurat1/unix/kirjasampo/benv/lib/python3.8/site-packages (from scrapy>=2.5.0->advertools) (4.9.1)\n",
      "Requirement already satisfied: itemadapter>=0.1.0 in /u/98/peurat1/unix/kirjasampo/benv/lib/python3.8/site-packages (from scrapy>=2.5.0->advertools) (0.7.0)\n",
      "Requirement already satisfied: tldextract in /u/98/peurat1/unix/kirjasampo/benv/lib/python3.8/site-packages (from scrapy>=2.5.0->advertools) (3.4.0)\n",
      "Requirement already satisfied: parsel>=1.5.0 in /u/98/peurat1/unix/kirjasampo/benv/lib/python3.8/site-packages (from scrapy>=2.5.0->advertools) (1.6.0)\n",
      "Requirement already satisfied: Twisted>=18.9.0 in /u/98/peurat1/unix/kirjasampo/benv/lib/python3.8/site-packages (from scrapy>=2.5.0->advertools) (22.8.0)\n",
      "Requirement already satisfied: packaging in /u/98/peurat1/unix/kirjasampo/benv/lib/python3.8/site-packages (from scrapy>=2.5.0->advertools) (21.3)\n",
      "Requirement already satisfied: protego>=0.1.15 in /u/98/peurat1/unix/kirjasampo/benv/lib/python3.8/site-packages (from scrapy>=2.5.0->advertools) (0.2.1)\n",
      "Requirement already satisfied: queuelib>=1.4.2 in /u/98/peurat1/unix/kirjasampo/benv/lib/python3.8/site-packages (from scrapy>=2.5.0->advertools) (1.6.2)\n",
      "Requirement already satisfied: pyOpenSSL>=21.0.0 in /u/98/peurat1/unix/kirjasampo/benv/lib/python3.8/site-packages (from scrapy>=2.5.0->advertools) (22.1.0)\n",
      "Requirement already satisfied: cryptography>=3.3 in /u/98/peurat1/unix/kirjasampo/benv/lib/python3.8/site-packages (from scrapy>=2.5.0->advertools) (38.0.1)\n",
      "Requirement already satisfied: zope.interface>=5.1.0 in /u/98/peurat1/unix/kirjasampo/benv/lib/python3.8/site-packages (from scrapy>=2.5.0->advertools) (5.4.0)\n",
      "Requirement already satisfied: requests-oauthlib>=0.4.0 in /u/98/peurat1/unix/kirjasampo/benv/lib/python3.8/site-packages (from twython>=3.8.0->advertools) (1.3.1)\n",
      "Requirement already satisfied: requests>=2.1.0 in /u/98/peurat1/unix/kirjasampo/benv/lib/python3.8/site-packages (from twython>=3.8.0->advertools) (2.28.0)\n",
      "Requirement already satisfied: cffi>=1.12 in /u/98/peurat1/unix/kirjasampo/benv/lib/python3.8/site-packages (from cryptography>=3.3->scrapy>=2.5.0->advertools) (1.15.0)\n",
      "Requirement already satisfied: jmespath>=0.9.5 in /u/98/peurat1/unix/kirjasampo/benv/lib/python3.8/site-packages (from itemloaders>=1.0.1->scrapy>=2.5.0->advertools) (1.0.1)\n",
      "Requirement already satisfied: six>=1.6.0 in /u/98/peurat1/unix/kirjasampo/benv/lib/python3.8/site-packages (from parsel>=1.5.0->scrapy>=2.5.0->advertools) (1.16.0)\n",
      "Requirement already satisfied: idna<4,>=2.5 in /u/98/peurat1/unix/kirjasampo/benv/lib/python3.8/site-packages (from requests>=2.1.0->twython>=3.8.0->advertools) (3.3)\n",
      "Requirement already satisfied: certifi>=2017.4.17 in /u/98/peurat1/unix/kirjasampo/benv/lib/python3.8/site-packages (from requests>=2.1.0->twython>=3.8.0->advertools) (2022.6.15)\n",
      "Requirement already satisfied: charset-normalizer~=2.0.0 in /u/98/peurat1/unix/kirjasampo/benv/lib/python3.8/site-packages (from requests>=2.1.0->twython>=3.8.0->advertools) (2.0.12)\n",
      "Requirement already satisfied: urllib3<1.27,>=1.21.1 in /u/98/peurat1/unix/kirjasampo/benv/lib/python3.8/site-packages (from requests>=2.1.0->twython>=3.8.0->advertools) (1.26.9)\n",
      "Requirement already satisfied: oauthlib>=3.0.0 in /u/98/peurat1/unix/kirjasampo/benv/lib/python3.8/site-packages (from requests-oauthlib>=0.4.0->twython>=3.8.0->advertools) (3.2.2)\n",
      "Requirement already satisfied: attrs>=19.1.0 in /u/98/peurat1/unix/kirjasampo/benv/lib/python3.8/site-packages (from service-identity>=18.1.0->scrapy>=2.5.0->advertools) (21.4.0)\n",
      "Requirement already satisfied: pyasn1-modules in /u/98/peurat1/unix/kirjasampo/benv/lib/python3.8/site-packages (from service-identity>=18.1.0->scrapy>=2.5.0->advertools) (0.2.8)\n",
      "Requirement already satisfied: Automat>=0.8.0 in /u/98/peurat1/unix/kirjasampo/benv/lib/python3.8/site-packages (from Twisted>=18.9.0->scrapy>=2.5.0->advertools) (20.2.0)\n",
      "Requirement already satisfied: hyperlink>=17.1.1 in /u/98/peurat1/unix/kirjasampo/benv/lib/python3.8/site-packages (from Twisted>=18.9.0->scrapy>=2.5.0->advertools) (21.0.0)\n",
      "Requirement already satisfied: typing-extensions>=3.6.5 in /u/98/peurat1/unix/kirjasampo/benv/lib/python3.8/site-packages (from Twisted>=18.9.0->scrapy>=2.5.0->advertools) (4.2.0)\n",
      "Requirement already satisfied: constantly>=15.1 in /u/98/peurat1/unix/kirjasampo/benv/lib/python3.8/site-packages (from Twisted>=18.9.0->scrapy>=2.5.0->advertools) (15.1.0)\n",
      "Requirement already satisfied: incremental>=21.3.0 in /u/98/peurat1/unix/kirjasampo/benv/lib/python3.8/site-packages (from Twisted>=18.9.0->scrapy>=2.5.0->advertools) (22.10.0)\n",
      "Requirement already satisfied: pyparsing!=3.0.5,>=2.0.2 in /u/98/peurat1/unix/kirjasampo/benv/lib/python3.8/site-packages (from packaging->scrapy>=2.5.0->advertools) (3.0.9)\n",
      "Requirement already satisfied: filelock>=3.0.8 in /u/98/peurat1/unix/kirjasampo/benv/lib/python3.8/site-packages (from tldextract->scrapy>=2.5.0->advertools) (3.7.1)\n",
      "Requirement already satisfied: requests-file>=1.4 in /u/98/peurat1/unix/kirjasampo/benv/lib/python3.8/site-packages (from tldextract->scrapy>=2.5.0->advertools) (1.5.1)\n",
      "Requirement already satisfied: pycparser in /u/98/peurat1/unix/kirjasampo/benv/lib/python3.8/site-packages (from cffi>=1.12->cryptography>=3.3->scrapy>=2.5.0->advertools) (2.21)\n"
     ]
    },
    {
     "name": "stdout",
     "output_type": "stream",
     "text": [
      "\r\n",
      "\u001b[1m[\u001b[0m\u001b[34;49mnotice\u001b[0m\u001b[1;39;49m]\u001b[0m\u001b[39;49m A new release of pip available: \u001b[0m\u001b[31;49m22.2.2\u001b[0m\u001b[39;49m -> \u001b[0m\u001b[32;49m22.3\u001b[0m\r\n",
      "\u001b[1m[\u001b[0m\u001b[34;49mnotice\u001b[0m\u001b[1;39;49m]\u001b[0m\u001b[39;49m To update, run: \u001b[0m\u001b[32;49mpip install --upgrade pip\u001b[0m\r\n"
     ]
    }
   ],
   "source": [
    "!python -m spacy download fi_core_news_sm\n",
    "!pip install advertools\n",
    "!python -m spacy download en_core_web_sm\n",
    "!pip install gensim==4.2.0\n",
    "!pip install unidecode"
   ]
  },
  {
   "cell_type": "code",
   "execution_count": null,
   "metadata": {},
   "outputs": [],
   "source": [
    "# kopioi github-repositorio tarvittavia tiedostoja varten"
   ]
  },
  {
   "cell_type": "code",
   "execution_count": null,
   "metadata": {
    "colab": {
     "base_uri": "https://localhost:8080/"
    },
    "id": "HrqlaLfQn0Dy",
    "outputId": "30dd228f-df51-45be-ace7-a67881081b27"
   },
   "outputs": [
    {
     "name": "stdout",
     "output_type": "stream",
     "text": [
      "Cloning into 'digikirjallisuus'...\n",
      "remote: Enumerating objects: 28, done.\u001b[K\n",
      "remote: Counting objects: 100% (28/28), done.\u001b[K\n",
      "remote: Compressing objects: 100% (21/21), done.\u001b[K\n",
      "remote: Total 28 (delta 3), reused 28 (delta 3), pack-reused 0\u001b[K\n",
      "Unpacking objects: 100% (28/28), done.\n"
     ]
    }
   ],
   "source": [
    "!git clone https://github.com/telmaau/digikirjallisuus/"
   ]
  },
  {
   "cell_type": "code",
   "execution_count": 154,
   "metadata": {
    "colab": {
     "base_uri": "https://localhost:8080/"
    },
    "id": "l79hFxo7oz_g",
    "outputId": "daf4153d-f0ef-4aab-8211-6335f6ad7baa"
   },
   "outputs": [
    {
     "name": "stdout",
     "output_type": "stream",
     "text": [
      "['aiemmin', 'aika', 'aikaa', 'aikaan', 'aikaisemmin']\n"
     ]
    }
   ],
   "source": [
    "# helper functions\n",
    "import spacy\n",
    "import pandas as pd\n",
    "from random import sample\n",
    "import glob\n",
    "import re\n",
    "\n",
    "nlp= spacy.load(\"fi_core_news_sm\")\n",
    "import advertools as adv\n",
    "\n",
    "stopwords=adv.stopwords['finnish']\n",
    "print(sorted(stopwords)[:5])\n",
    "from digikirjallisuus.styloutils import *  \n",
    "from digikirjallisuus.utils import *  "
   ]
  },
  {
   "cell_type": "code",
   "execution_count": null,
   "metadata": {},
   "outputs": [],
   "source": [
    "\n",
    "def clean_text(\n",
    "    txt: str, \n",
    "    punctuations=r'''!()-[]{};:'\"\\,<>./?@#$%^&*_~''',\n",
    "    stop_words=stopwords,\n",
    "    processing=\"lemmas\"\n",
    "    ) -> str:\n",
    "    \n",
    "    \"\"\"\n",
    "    A method to clean text \n",
    "    \"\"\"\n",
    "\n",
    "    if processing == \"lemmas\":\n",
    "      doc = nlp(txt)\n",
    "      #lemmas=[token.lemma_ for token in doc if token.pos_ != \"PUNCT\"]\n",
    "      lemmas=[token.lemma_ for token in doc if token.pos_ in [\"VERB\", \"NOUN\" ,\"ADJ\" ,\"ADV\"]]\n",
    "      string=\" \".join([l for l in lemmas if len(l)>2]) # vain sanat, jotka yli kaksi kirjainta pitkiä\n",
    "\n",
    "    elif processing ==\"none\":\n",
    "      # Cleaning the urls\n",
    "      string = re.sub(r'https?://\\S+|www\\.\\S+', '', txt)\n",
    "\n",
    "      # Cleaning the html elements\n",
    "      string = re.sub(r'<.*?>', '', string)\n",
    "\n",
    "      # Removing the punctuations\n",
    "      for x in string.lower(): \n",
    "          if x in punctuations: \n",
    "              string = string.replace(x, \"\") \n",
    "\n",
    "    else:\n",
    "      # Cleaning the urls\n",
    "      string = re.sub(r'https?://\\S+|www\\.\\S+', '', txt)\n",
    "\n",
    "      # Cleaning the html elements\n",
    "      string = re.sub(r'<.*?>', '', string)\n",
    "\n",
    "      txt=txt.translate(translate_table)\n",
    "      stems = stemmer.stem(txt)\n",
    "      \n",
    "      string=\" \".join([s for s in stems.split() if len(s)>1])\n",
    "\n",
    "    # Converting the text to lower\n",
    "    string = string.lower()\n",
    "\n",
    "    # Removing stop words\n",
    "    string = ' '.join([word for word in string.split() if word not in stop_words])\n",
    "\n",
    "    # Cleaning the whitespaces\n",
    "    string = re.sub(r'\\s+', ' ', string).strip()\n",
    "\n",
    "    return string  "
   ]
  },
  {
   "cell_type": "markdown",
   "metadata": {},
   "source": [
    "## Tehtävä 1a): tarkastele Melvillen Moby Dickiä"
   ]
  },
  {
   "cell_type": "code",
   "execution_count": 4,
   "metadata": {
    "colab": {
     "base_uri": "https://localhost:8080/"
    },
    "id": "wtvA9NcpqIJB",
    "outputId": "9764d7c5-097a-445b-ee0b-da7970b1aa42"
   },
   "outputs": [
    {
     "name": "stdout",
     "output_type": "stream",
     "text": [
      "Ollessani joitakin vuosia sitten -- kauanko siitä tarkalleen on, ei suuria merkitse -- melkeinpä tyhjätaskuna ja alettuani kammota maankamaraa, juolahti mieleeni ajatus lähteä vesille oppiakseni tunte\n"
     ]
    }
   ],
   "source": [
    "# prepare a corpus\n",
    "\n",
    "with open(\"digikirjallisuus/data/melville_valas.txt\", encoding='latin-1') as fp:\n",
    "  txt=fp.read()\n",
    "  txt_split=txt.split(\"\\n\")\n",
    "  txt=txt.replace(\"\\n\", \" \")\n",
    "\n",
    "print(txt[:200], \"\\n\")\n",
    "\n",
    "\n",
    "# syötä teksti NLP-algoritmille\n",
    "doc= nlp(txt)\n",
    "print(\"merkkimäärä:\", len(doc),\"\\n\")\n"
   ]
  },
  {
   "cell_type": "code",
   "execution_count": 32,
   "metadata": {
    "colab": {
     "base_uri": "https://localhost:8080/"
    },
    "id": "TsGVpAMmsEmc",
    "outputId": "f1b0f290-0002-4720-8384-f35ccf97bed7"
   },
   "outputs": [
    {
     "data": {
      "text/html": [
       "<div>\n",
       "<style scoped>\n",
       "    .dataframe tbody tr th:only-of-type {\n",
       "        vertical-align: middle;\n",
       "    }\n",
       "\n",
       "    .dataframe tbody tr th {\n",
       "        vertical-align: top;\n",
       "    }\n",
       "\n",
       "    .dataframe thead th {\n",
       "        text-align: right;\n",
       "    }\n",
       "</style>\n",
       "<table border=\"1\" class=\"dataframe\">\n",
       "  <thead>\n",
       "    <tr style=\"text-align: right;\">\n",
       "      <th></th>\n",
       "      <th>0</th>\n",
       "      <th>1</th>\n",
       "      <th>2</th>\n",
       "      <th>3</th>\n",
       "    </tr>\n",
       "  </thead>\n",
       "  <tbody>\n",
       "    <tr>\n",
       "      <th>0</th>\n",
       "      <td>lokaisen</td>\n",
       "      <td>lokainen</td>\n",
       "      <td>ADJ</td>\n",
       "      <td>amod</td>\n",
       "    </tr>\n",
       "    <tr>\n",
       "      <th>1</th>\n",
       "      <td>marraskuun</td>\n",
       "      <td>marraskuu</td>\n",
       "      <td>NOUN</td>\n",
       "      <td>nmod:poss</td>\n",
       "    </tr>\n",
       "    <tr>\n",
       "      <th>2</th>\n",
       "      <td>kylmyys</td>\n",
       "      <td>kylmyys</td>\n",
       "      <td>NOUN</td>\n",
       "      <td>nsubj</td>\n",
       "    </tr>\n",
       "    <tr>\n",
       "      <th>3</th>\n",
       "      <td>painaa</td>\n",
       "      <td>painaa</td>\n",
       "      <td>VERB</td>\n",
       "      <td>advcl</td>\n",
       "    </tr>\n",
       "    <tr>\n",
       "      <th>4</th>\n",
       "      <td>sielua</td>\n",
       "      <td>sielu</td>\n",
       "      <td>NOUN</td>\n",
       "      <td>obj</td>\n",
       "    </tr>\n",
       "    <tr>\n",
       "      <th>5</th>\n",
       "      <td>;</td>\n",
       "      <td>;</td>\n",
       "      <td>PUNCT</td>\n",
       "      <td>punct</td>\n",
       "    </tr>\n",
       "    <tr>\n",
       "      <th>6</th>\n",
       "      <td>kun</td>\n",
       "      <td>kun</td>\n",
       "      <td>SCONJ</td>\n",
       "      <td>mark</td>\n",
       "    </tr>\n",
       "    <tr>\n",
       "      <th>7</th>\n",
       "      <td>tahtomattaan</td>\n",
       "      <td>tahtomattaan</td>\n",
       "      <td>NOUN</td>\n",
       "      <td>obj</td>\n",
       "    </tr>\n",
       "    <tr>\n",
       "      <th>8</th>\n",
       "      <td>jää</td>\n",
       "      <td>jäädä</td>\n",
       "      <td>VERB</td>\n",
       "      <td>advcl</td>\n",
       "    </tr>\n",
       "    <tr>\n",
       "      <th>9</th>\n",
       "      <td>seisomaan</td>\n",
       "      <td>seisoa</td>\n",
       "      <td>VERB</td>\n",
       "      <td>xcomp</td>\n",
       "    </tr>\n",
       "    <tr>\n",
       "      <th>10</th>\n",
       "      <td>ruumisarkkuliikkeitten</td>\n",
       "      <td>ruumisarkkuliikkeit</td>\n",
       "      <td>NOUN</td>\n",
       "      <td>obl</td>\n",
       "    </tr>\n",
       "    <tr>\n",
       "      <th>11</th>\n",
       "      <td>eteen</td>\n",
       "      <td>eteen</td>\n",
       "      <td>ADP</td>\n",
       "      <td>case</td>\n",
       "    </tr>\n",
       "    <tr>\n",
       "      <th>12</th>\n",
       "      <td>ja</td>\n",
       "      <td>ja</td>\n",
       "      <td>CCONJ</td>\n",
       "      <td>cc</td>\n",
       "    </tr>\n",
       "    <tr>\n",
       "      <th>13</th>\n",
       "      <td>töllistelemään</td>\n",
       "      <td>töllistelemään</td>\n",
       "      <td>VERB</td>\n",
       "      <td>conj</td>\n",
       "    </tr>\n",
       "    <tr>\n",
       "      <th>14</th>\n",
       "      <td>jokaista</td>\n",
       "      <td>jokainen</td>\n",
       "      <td>PRON</td>\n",
       "      <td>det</td>\n",
       "    </tr>\n",
       "  </tbody>\n",
       "</table>\n",
       "</div>"
      ],
      "text/plain": [
       "                         0                    1      2          3\n",
       "0                 lokaisen             lokainen    ADJ       amod\n",
       "1               marraskuun            marraskuu   NOUN  nmod:poss\n",
       "2                  kylmyys              kylmyys   NOUN      nsubj\n",
       "3                   painaa               painaa   VERB      advcl\n",
       "4                   sielua                sielu   NOUN        obj\n",
       "5                        ;                    ;  PUNCT      punct\n",
       "6                      kun                  kun  SCONJ       mark\n",
       "7             tahtomattaan         tahtomattaan   NOUN        obj\n",
       "8                      jää                jäädä   VERB      advcl\n",
       "9                seisomaan               seisoa   VERB      xcomp\n",
       "10  ruumisarkkuliikkeitten  ruumisarkkuliikkeit   NOUN        obl\n",
       "11                   eteen                eteen    ADP       case\n",
       "12                      ja                   ja  CCONJ         cc\n",
       "13          töllistelemään       töllistelemään   VERB       conj\n",
       "14                jokaista             jokainen   PRON        det"
      ]
     },
     "metadata": {},
     "output_type": "display_data"
    }
   ],
   "source": [
    "\n",
    "# Nyt jokaiselle sanalle on tiedossa kieliopillisia elementtejä:\n",
    "\n",
    "df=pd.DataFrame()\n",
    "\n",
    "# iteroi sanat pätkästä tekstiä:\n",
    "for token in doc[50:120]:\n",
    "    \n",
    "    temp=pd.Series([token.text,token.lemma_,token.pos_, token.dep_]).to_frame().T\n",
    "    df=pd.concat([df,temp], axis=0, ignore_index=True)\n",
    "    \n",
    "display(df.head(15))\n",
    "\n",
    "# mitä sarakkeet esittävät?"
   ]
  },
  {
   "cell_type": "markdown",
   "metadata": {},
   "source": [
    "### Sanoista vektoreiksi!\n",
    "\n",
    "Seuraavan tehtävän korpuksena käytetään pientä romaanivalikoimaa.\n",
    "Niiden sanoista muodostetaan vektoreita sen perusteella, minkä muiden sanojen läheisyydessä\n",
    "ne esiintyvät."
   ]
  },
  {
   "cell_type": "markdown",
   "metadata": {},
   "source": [
    "## Tehtävä 1b) kouluta sanavektoreita \n",
    "Korpuksena käytetään kokoelmaa romaaneja, jotka näet alla."
   ]
  },
  {
   "cell_type": "code",
   "execution_count": 64,
   "metadata": {
    "colab": {
     "base_uri": "https://localhost:8080/"
    },
    "id": "Wuxz04gaLE7p",
    "outputId": "b768be6c-0ebc-4a33-a839-b21848b4bc55"
   },
   "outputs": [
    {
     "name": "stdout",
     "output_type": "stream",
     "text": [
      "data/montgomery_runotytto.txt\n",
      "got unicode error with utf-8 , trying different encoding\n",
      "opening the file with encoding:  latin-1 \n",
      "5460 0\n",
      "data/dickens_saiturin_joulu.txt\n",
      "got unicode error with utf-8 , trying different encoding\n",
      "opening the file with encoding:  latin-1 \n",
      "1595 5460\n",
      "data/doyle_baskervillen_koira.txt\n",
      "got unicode error with utf-8 , trying different encoding\n",
      "opening the file with encoding:  latin-1 \n",
      "3909 7055\n",
      "data/grimm_satuja.txt\n",
      "opening the file with encoding:  utf-8 \n",
      "5019 10964\n",
      "data/iris_rukka.txt\n",
      "opening the file with encoding:  utf-8 \n",
      "2280 15983\n",
      "data/kivi_seitseman_veljesta.txt\n",
      "got unicode error with utf-8 , trying different encoding\n",
      "opening the file with encoding:  latin-1 \n",
      "6539 18263\n",
      "data/liisa_ihmemaassa.txt\n",
      "opening the file with encoding:  utf-8 \n",
      "1340 24802\n",
      "data/lehtonen_putkinotko.txt\n",
      "got unicode error with utf-8 , trying different encoding\n",
      "opening the file with encoding:  latin-1 \n",
      "7508 26142\n",
      "data/melville_valas.txt\n",
      "got unicode error with utf-8 , trying different encoding\n",
      "opening the file with encoding:  latin-1 \n",
      "3044 33650\n",
      "data/montgomery_anna.txt\n",
      "got unicode error with utf-8 , trying different encoding\n",
      "opening the file with encoding:  latin-1 \n",
      "4927 36694\n",
      "data/dickens_oliver_twist.txt\n",
      "got unicode error with utf-8 , trying different encoding\n",
      "opening the file with encoding:  latin-1 \n",
      "7020 41621\n"
     ]
    }
   ],
   "source": [
    "# add the whole corpus\n",
    "\n",
    "import glob\n",
    "\n",
    "texts= glob.glob(\"digikirjallisuus/data/*txt\")\n",
    "my_corpus=[]\n",
    "novels={}\n",
    "for a_text in texts:\n",
    "  print(a_text)\n",
    "  encodings = ['utf-8', 'latin-1', 'windows-1252']\n",
    "  for e in encodings:\n",
    "      try:\n",
    "          with open(a_text, encoding=e) as fp:\n",
    "            txt=fp.read()\n",
    "            txt=txt.replace(\"\\n\", \" \")\n",
    "      except UnicodeDecodeError:\n",
    "          print('got unicode error with %s , trying different encoding' % e)\n",
    "      else:\n",
    "          print('opening the file with encoding:  %s ' % e)\n",
    "          break\n",
    "  \n",
    "  \n",
    "  clean=clean_text(txt)\n",
    "  novels[a_text.split(\"/\")[-1].replace(\".txt\",\"\")] = clean\n",
    "  my_chunks=chunks(clean.split(), 7)\n",
    "  print(len(my_chunks),len(my_corpus))\n",
    "  my_corpus+=my_chunks"
   ]
  },
  {
   "cell_type": "markdown",
   "metadata": {},
   "source": [
    "#### Koulutetaan vektorimalli:\n",
    "kaikki kirjojen lauseet syötetään nyt word2vec-algoritmille, joka luo niistä vektoreita."
   ]
  },
  {
   "cell_type": "code",
   "execution_count": 56,
   "metadata": {
    "colab": {
     "base_uri": "https://localhost:8080/"
    },
    "id": "njv-UUaNz-wt",
    "outputId": "f40b96f3-e518-4627-d35b-5afe43edf3da"
   },
   "outputs": [
    {
     "name": "stderr",
     "output_type": "stream",
     "text": [
      "2022-10-25 20:05:21,431 | INFO | word2vec.py:579 | scan_vocab | collecting all words and their counts\n",
      "2022-10-25 20:05:21,434 | INFO | word2vec.py:562 | _scan_vocab | PROGRESS: at sentence #0, processed 0 words, keeping 0 word types\n",
      "2022-10-25 20:05:21,467 | INFO | word2vec.py:562 | _scan_vocab | PROGRESS: at sentence #10000, processed 69992 words, keeping 21548 word types\n",
      "2022-10-25 20:05:21,502 | INFO | word2vec.py:562 | _scan_vocab | PROGRESS: at sentence #20000, processed 139985 words, keeping 37762 word types\n",
      "2022-10-25 20:05:21,523 | INFO | word2vec.py:562 | _scan_vocab | PROGRESS: at sentence #30000, processed 209979 words, keeping 54543 word types\n",
      "2022-10-25 20:05:21,539 | INFO | word2vec.py:562 | _scan_vocab | PROGRESS: at sentence #40000, processed 279973 words, keeping 68773 word types\n",
      "2022-10-25 20:05:21,560 | INFO | word2vec.py:585 | scan_vocab | collected 77391 word types from a corpus of 340457 raw words and 48641 sentences\n",
      "2022-10-25 20:05:21,561 | INFO | word2vec.py:634 | prepare_vocab | Creating a fresh vocabulary\n",
      "2022-10-25 20:05:21,616 | INFO | utils.py:448 | add_lifecycle_event | Word2Vec lifecycle event {'msg': 'effective_min_count=10 retains 4226 unique words (5.46% of original 77391, drops 73165)', 'datetime': '2022-10-25T20:05:21.616425', 'gensim': '4.2.0', 'python': '3.8.10 (default, Jun 22 2022, 20:18:18) \\n[GCC 9.4.0]', 'platform': 'Linux-5.14.0-1051-oem-x86_64-with-glibc2.29', 'event': 'prepare_vocab'}\n",
      "2022-10-25 20:05:21,617 | INFO | utils.py:448 | add_lifecycle_event | Word2Vec lifecycle event {'msg': 'effective_min_count=10 leaves 215888 word corpus (63.41% of original 340457, drops 124569)', 'datetime': '2022-10-25T20:05:21.617420', 'gensim': '4.2.0', 'python': '3.8.10 (default, Jun 22 2022, 20:18:18) \\n[GCC 9.4.0]', 'platform': 'Linux-5.14.0-1051-oem-x86_64-with-glibc2.29', 'event': 'prepare_vocab'}\n",
      "2022-10-25 20:05:21,638 | INFO | word2vec.py:742 | prepare_vocab | deleting the raw counts dictionary of 77391 items\n",
      "2022-10-25 20:05:21,640 | INFO | word2vec.py:745 | prepare_vocab | sample=0.001 downsamples 43 most-common words\n",
      "2022-10-25 20:05:21,641 | INFO | utils.py:448 | add_lifecycle_event | Word2Vec lifecycle event {'msg': 'downsampling leaves estimated 199386.02039069787 word corpus (92.4%% of prior 215888)', 'datetime': '2022-10-25T20:05:21.641344', 'gensim': '4.2.0', 'python': '3.8.10 (default, Jun 22 2022, 20:18:18) \\n[GCC 9.4.0]', 'platform': 'Linux-5.14.0-1051-oem-x86_64-with-glibc2.29', 'event': 'prepare_vocab'}\n",
      "2022-10-25 20:05:21,673 | INFO | word2vec.py:802 | estimate_memory | estimated required memory for 4226 words and 150 dimensions: 7184200 bytes\n",
      "2022-10-25 20:05:21,674 | INFO | word2vec.py:860 | init_weights | resetting layer weights\n",
      "2022-10-25 20:05:21,676 | INFO | utils.py:448 | add_lifecycle_event | Word2Vec lifecycle event {'update': False, 'trim_rule': 'None', 'datetime': '2022-10-25T20:05:21.676789', 'gensim': '4.2.0', 'python': '3.8.10 (default, Jun 22 2022, 20:18:18) \\n[GCC 9.4.0]', 'platform': 'Linux-5.14.0-1051-oem-x86_64-with-glibc2.29', 'event': 'build_vocab'}\n",
      "2022-10-25 20:05:21,677 | INFO | utils.py:448 | add_lifecycle_event | Word2Vec lifecycle event {'msg': 'training model with 3 workers on 4226 vocabulary and 150 features, using sg=1 hs=0 sample=0.001 negative=5 window=2 shrink_windows=True', 'datetime': '2022-10-25T20:05:21.677422', 'gensim': '4.2.0', 'python': '3.8.10 (default, Jun 22 2022, 20:18:18) \\n[GCC 9.4.0]', 'platform': 'Linux-5.14.0-1051-oem-x86_64-with-glibc2.29', 'event': 'train'}\n",
      "2022-10-25 20:05:21,905 | INFO | word2vec.py:1638 | _log_epoch_end | EPOCH 0: training on 340457 raw words (199355 effective words) took 0.2s, 908578 effective words/s\n",
      "2022-10-25 20:05:22,199 | INFO | word2vec.py:1638 | _log_epoch_end | EPOCH 1: training on 340457 raw words (199259 effective words) took 0.3s, 696174 effective words/s\n",
      "2022-10-25 20:05:22,433 | INFO | word2vec.py:1638 | _log_epoch_end | EPOCH 2: training on 340457 raw words (199357 effective words) took 0.2s, 877200 effective words/s\n",
      "2022-10-25 20:05:22,684 | INFO | word2vec.py:1638 | _log_epoch_end | EPOCH 3: training on 340457 raw words (199415 effective words) took 0.2s, 818220 effective words/s\n",
      "2022-10-25 20:05:22,926 | INFO | word2vec.py:1638 | _log_epoch_end | EPOCH 4: training on 340457 raw words (199401 effective words) took 0.2s, 849610 effective words/s\n",
      "2022-10-25 20:05:22,926 | INFO | utils.py:448 | add_lifecycle_event | Word2Vec lifecycle event {'msg': 'training on 1702285 raw words (996787 effective words) took 1.2s, 798123 effective words/s', 'datetime': '2022-10-25T20:05:22.926789', 'gensim': '4.2.0', 'python': '3.8.10 (default, Jun 22 2022, 20:18:18) \\n[GCC 9.4.0]', 'platform': 'Linux-5.14.0-1051-oem-x86_64-with-glibc2.29', 'event': 'train'}\n",
      "2022-10-25 20:05:22,927 | INFO | utils.py:448 | add_lifecycle_event | Word2Vec lifecycle event {'params': 'Word2Vec<vocab=4226, vector_size=150, alpha=0.025>', 'datetime': '2022-10-25T20:05:22.927278', 'gensim': '4.2.0', 'python': '3.8.10 (default, Jun 22 2022, 20:18:18) \\n[GCC 9.4.0]', 'platform': 'Linux-5.14.0-1051-oem-x86_64-with-glibc2.29', 'event': 'created'}\n"
     ]
    },
    {
     "name": "stdout",
     "output_type": "stream",
     "text": [
      "Word2Vec<vocab=4226, vector_size=150, alpha=0.025>\n"
     ]
    }
   ],
   "source": [
    "from gensim.models import Word2Vec\n",
    "# define training data\n",
    "sentences = my_corpus\n",
    "\n",
    "# train model\n",
    "model = Word2Vec(sentences, \n",
    "    min_count=10, # sanan täytyy esiintyä vähintään 10 kertaa\n",
    "    window = 2, # katsotaan kahta lähintä sanaa ympärillä\n",
    "    vector_size=150, # kuinka monta ulottuvuutta vektorille annetaan\n",
    "    sg=1)\n",
    "    \n",
    "# summarize the loaded model\n",
    "print(model)\n"
   ]
  },
  {
   "cell_type": "code",
   "execution_count": 57,
   "metadata": {
    "colab": {
     "base_uri": "https://localhost:8080/"
    },
    "id": "s4mt59K1DEjv",
    "outputId": "b12772c6-7c4f-4455-c696-bde839f53dc0"
   },
   "outputs": [
    {
     "name": "stdout",
     "output_type": "stream",
     "text": [
      "['aallo', 'aalta', 'aalto', 'aamiainen', 'aamu', 'aamupäivä', 'aamusta', 'aapeli', 'aapiskirja', 'aarnikotka', 'aasi', 'aatos', 'aave', 'aavistaa', 'aavistus', 'aha', 'ahaa', 'ahdistaa', 'ahkera', 'ahkerasti', 'aho', 'aholla', 'aholle', 'aida', 'aihe', 'aiheuttaa', 'aikei', 'aikoa', 'aikoivat', 'aikomus', 'ainapa', 'aine', 'ainoakaan', 'ainoastaan', 'ainoata', 'aio', 'aioin', 'airo', 'aita', 'aito', 'aitta', 'aittaan', 'aivo', 'aja', 'ajaa', 'ajaja', 'ajatelka', 'ajatella', 'ajatelleeksi', 'ajattelea', 'ajatukse', 'ajatuksi', 'ajatuksissaan', 'ajatus', 'ajoia', 'ajoissa', 'ajoista', 'ajuri', 'akka', 'akkuna', 'akkuta', 'ala', 'alainen', 'alakuloinen', 'alakuloisesti', 'alaspäin', 'alasti', 'alati', 'alhaalla', 'alistua', 'alituisesti', 'alkaa', 'alku', 'alue', 'alus', 'ammatti', 'ammentaa', 'ampua', 'ankara', 'ankarasti', 'anna', 'annaa', 'annatte', 'annoin', 'annos', 'ansaita', 'ansio', 'anta', 'antaisi', 'antakaa', 'antautua', 'anteeksi', 'anthony', 'apteekkari', 'arasti', 'arka', 'arkihuonee', 'arkku', 'armo', 'armoa', 'armollinen', 'arvana', 'arvata', 'arvattavasti', 'arvelette', 'arveli', 'arvella', 'arvellä', 'arvelu', 'arvo', 'arvoinen', 'arvoisa', 'arvoitus', 'arvokas', 'arvokkaasti', 'ase', 'asema', 'asento', 'asettaa', 'asettua', 'asiain', 'asiakirja', 'asiassa', 'askel', 'askele', 'askeleita', 'askeli', 'astelema', 'astelia', 'astella', 'astia', 'astua', 'astuia', 'astuivat', 'astuti', 'asu', 'asua', 'asukas', 'asunto', 'ateria', 'atria', 'aukaa', 'aukeni', 'auki', 'aukko', 'auringonlasku', 'aurinko', 'autio', 'auttaa', 'auttako', 'avaamaan', 'avain', 'avara', 'avata', 'avautua', 'avioliitto', 'avoin', 'avonainen', 'avustus', 'charlos', 'diana', 'dollari', 'dublooni', 'edellinen', 'edemmäksi', 'edestakaisin', 'edistyä', 'edusta', 'ehdittyä', 'ehdottaa', 'ehdottomasti', 'ehdotus', 'ehkäpä', 'ehtiminen', 'ehtiä', 'ehto', 'eiköhän', 'eikös', 'elikko', 'elisabet', 'elisabet-tädille', 'elisabet-tädin', 'elisabet-täti', 'elisabet-tätiä', 'elo', 'eloisa', 'elokuu', 'elsa', 'elukka', 'eläin', 'eläissäni', 'elämä', 'elämässään', 'elävä', 'elää', 'emilia', 'emilialle', 'emiliasta', 'emily', 'emmehän', 'emännä', 'emännöitsijä', 'emäntä', 'emäntää', 'enemma', 'enemmin', 'enempää', 'enesti', 'englanti', 'englantilainen', 'enimmäkseen', 'enimmän', 'enkeli', 'enkö', 'ennemmin', 'ennen-kuin', 'ennenkin', 'ennenkuin', 'ennestään', 'ennustaa', 'ennättää', 'ennätä', 'eno', 'enpä', 'ensiksi', 'ensimäinen', 'ensinkään', 'ensinnä', 'entiseen', 'entä', 'entäs', 'enä', 'enään', 'epäilemättä', 'epäillä', 'epämiellyttävä', 'epämääräinen', 'epäröis', 'epäselvä', 'epätoivo', 'epätoivoinen', 'erehdys', 'erehtyä', 'erikoinen', 'erikoisesti', 'erilainen', 'erilleen', 'erillään', 'erinomainen', 'erinomaisesti', 'erinomaista', 'erityinen', 'erkki', 'ero', 'eroittaa', 'erota', 'erottaa', 'eräänen', 'esiintyä', 'esiliina', 'esiliita', 'esille', 'esimerkki', 'esine', 'esitellä', 'esittää', 'estaa', 'este', 'estää', 'etee', 'eteen-päin', 'eteenpäin', 'eteensä', 'eteinen', 'etelä', 'etes', 'ethän', 'etkö', 'eto', 'etsiä', \"ett'ei\", 'ettehän', 'ettekö', 'etu', 'etukäteen', 'etäinen', 'etäällä', 'eukko', 'evatäti', 'gentlemani', 'gentlemanni', 'haaa', 'haamoittaa', 'haamu', 'haara', 'haastella', 'haava', 'hahmo', 'haihtua', 'haista', 'hajallaan', 'hajamielinen', 'haju', 'hakata', 'hakea', 'hakema', 'haki', 'halko', 'hallita', 'halpa', 'haltuun', 'halu', 'halukas', 'haluta', 'haluttaa', 'halutti', 'halveksivasti', 'hame', 'hamee', 'hammas', 'hampa', 'hampaansa', 'hampai', 'hankkia', 'hankkimaan', 'hannu', 'harakka', 'harja', 'harjata', 'harjoittaa', 'harjulla', 'harkita', 'harmaa', 'harmaat', 'harmi', 'harmissaan', 'harmistuneena', 'harmittaa', 'harppuuni', 'harppuunimies', 'hartaasti', 'hartia', 'harvinainen', 'harvoin', 'hassu', 'hattu', 'hattua', 'hatun', 'hatuntekijä', 'hauda', 'haudata', 'haukkua', 'hauska', 'hauskalta', 'hauskka', 'hauta', 'hautaa', 'havaita', 'hedelmä', 'hehku', 'hehkua', 'hehkuva', 'heikko', 'heikosti', 'heilua', 'heilutella', 'heiluttaa', 'hein', 'heinä', 'heinäkuu', 'heinänteko', 'heittiä', 'heittäa', 'heittäytyä', 'heittää', 'heleä', 'hella', 'hellittaa', 'hellittää', 'hellä', 'hellästi', 'helma', 'helppo', 'helvetin', 'helvetti', 'helvettiin', 'helvettää', 'hengiltä', 'hengittää', 'hengähtää', 'henke', 'henkeä', 'henki', 'henkilö', 'hento', 'herkku', 'hermostua', 'herra', 'herrasmies', 'herro', 'herttainen', 'herttaisesti', 'herttuatar', 'herättää', 'herätä', 'hetipaikalla', 'hetkenä', 'hetki', 'hetkinen', 'hetkisen', 'hevonen', 'hevosella', 'hevoset', 'hidas', 'hiena', 'hieno', 'hieroa', 'hieroida', 'hiha', 'hiili', 'hiipi', 'hiipiä', 'hiiri', 'hiisku', 'hiiskua', 'hiiteen', 'hiki', 'hikoilla', 'hiljaa', 'hiljainen', 'hiljaisuus', 'hiljaisuute', 'hiljalleen', 'hiljentää', 'hilkka', 'hillitä', 'hilpeästi', 'himmeä', 'hinta', 'hirmuinen', 'hirri', 'hirteen', 'hirveä', 'hirveän', 'hirveästi', 'hirveätä', 'hirvittävä', 'hirviö', 'historia', 'hitto', 'hiukan', 'hiukkaaka', 'hiukkanen', 'hiuksia', 'hius', 'hohtaa', 'hohtava', 'hohteessa', 'hoilottaa', 'hoitaa', 'hokea', 'homma', 'hommata', 'hopea', 'hopeinen', 'horjua', 'hotelli', 'hotellissa', 'houkutella', 'houkutteleva', 'houkuttella', 'housu', 'housut', 'hovi', 'hovimestari', 'huhu', 'huikea', 'huippu', 'huivi', 'hukassa', 'hukkaan', 'hukkua', 'hukuttaa', 'hullu', 'hullunkurinen', 'hullusti', 'humala', 'huoata', 'huohottaa', 'huokailla', 'huokainen', 'huokaista', 'huokata', 'huokaus', 'huolehtia', 'huolella', 'huolellisesti', 'huoleti', 'huolettomasti', 'huoli', 'huolia', 'huolimattomasti', 'huolissaan', 'huoma', 'huomaa', 'huomasaa', 'huomata', 'huomatessaan', 'huomattava', 'huomattua', 'huomauttaa', 'huomautus', 'huomio', 'huomispäivä', 'huone', 'huonee', 'huoneenen', 'huoneeseensa', 'huoneessa', 'huoneesta', 'huonehenen', 'huonekalu', 'huono', 'huonosti', 'hupainen', 'hurja', 'hurjasti', 'hurskas', 'huuda', 'huudahdus', 'huudahta', 'huudahtaa', 'huudahti', 'huuli', 'huulillaan', 'huusia', 'huutaa', 'huuteli', 'huuto', 'huvi', 'huvila', 'huvittaa', 'huvittava', 'hylly', 'hylätä', 'hymy', 'hymyillä', 'hymähtää', 'hyppella', 'hyppiä', 'hyppäsi', 'hyppätä', 'hypähti', 'hypähtää', 'hypätä', 'hyvillään', 'hyväkseen', 'hyväksyä', 'hyvänen', 'hyvänsä', 'hyväntahtoisesti', 'hyvästi', 'hyödyllinen', 'hyödyttää', 'hyökätä', 'hyöty', 'hädissä', 'häijy', 'häiritä', 'häitä', 'hälinä', 'hämilleen', 'hämillään', 'hämmästykse', 'hämmästyneenä', 'hämmästys', 'hämmästyttää', 'hämmästyä', 'hämärä', 'hänenkin', 'hänkö', 'hännä', 'hänpä', 'häpeä', 'härjä', 'härki', 'härkä', 'härä', 'hätkähtää', 'hätä', 'hätään', 'hävittää', 'hävitä', 'hävytön', 'häät', 'höyry', 'ihailla', 'ihana', 'ihanasti', 'ihanuus', 'ihastua', 'ihastuneena', 'ihastus', 'ihme', 'ihmeellinen', 'ihmeissään', 'ihmetellä', 'ihmettella', 'ihminen', 'iho', 'ikinä', 'ikkuna', 'ikuinen', 'ikä', 'ikäinen', 'ikävä', 'ikään', 'ikään-kuin', 'ikäänkuin', 'ilahduttaa', 'ilkeä', 'ilki', 'ilkiö', 'illalla', 'illallinen', 'illallise', 'ilma', 'ilmainen', 'ilmaista', 'ilme', 'ilmein', 'ilmeinen', 'ilmestyä', 'ilmetä', 'ilmi', 'ilmiö', 'ilmo', 'ilmoittaa', 'ilmoittama', 'ilmoitus', 'ilmottaa', 'ilo', 'iloinen', 'iloise', 'iloiseksi', 'iloisesti', 'iloissa', 'iloissaan', 'iloita', 'iloksi', 'ilse', 'ilsen', 'ilta', 'iltapäivä', 'ilves', 'imeä', 'inhimillinen', 'inhottava', 'inkivääri', 'innokas', 'innokkaasti', 'innostua', 'into', 'inttää', 'iriksen', 'irroittaa', 'irti', 'irvisti', 'irvistää', 'iskeä', 'iski', 'iskivät', 'isku', 'iso', 'isoisä', 'isotäti', 'isoäiti', 'istahtaa', 'istua', 'istuia', 'istuimme', 'istuiva', 'istuivat', 'istuka', 'istuttaa', 'istuutua', 'istuvat', 'isä', 'isälleen', 'isänne', 'isäntä', 'isää', 'itke', 'itkemä', 'itkevä', 'itkeä', 'itki', 'itku', 'itsekse', 'itsekseen', 'itseksensä', 'itsekäs', 'itsellensä', 'itsellesi', 'itsellään', 'itsepintainen', 'itsepintaisesti', 'itsepäinen', 'itses', 'itsestään', 'itseä', 'itseänsä', 'itä', 'iva', 'ivallinen', 'ivallisesti', 'jakaa', 'jaksaa', 'jala', 'jalka', 'jalkaa', 'jalkain', 'jalkaisin', 'jalo', 'jaloillaan', 'jaloilleen', 'jano', 'jatka', 'jatkaa', 'jatkua', 'jauha', 'jauho', 'jauhosäkki', 'jimmy-serkku', 'jimmy-serkun', 'jimmyserkku', 'johan', 'johdattaa', 'johtaa', 'johtaja', 'johtokunta', 'johtua', 'joit', 'jokapäiväinen', 'joki', 'jokseenkin', 'jolloinka', 'jonkinlainen', 'jonkunlainen', 'jonnekin', 'jospa', 'joukko', 'joulu', 'joutaa', 'joutava', 'juhani', 'juhla', 'juhlallinen', 'juhlallisesti', 'julistaa', 'julkinen', 'julma', 'julmasti', 'jumala', 'juna', 'junkkari', 'juoa', 'juoda', 'juoka', 'juokse', 'juoksee', 'juoksia', 'juoksivat', 'juoksu', 'juolahtaa', 'juolahtää', 'juoma', 'juoni', 'juos', 'juosta', 'juostessaan', 'juotava', 'jupä', 'jussi', 'jutella', 'juttelea', 'juttu', 'juure', 'juurelle', 'juurta', 'juusto', 'juutaksen', 'juutalainen', 'juutalaisen', 'juutas', 'juutasta', 'jykevä', 'jyrkkä', 'jyrkä', 'jyrkästi', 'jäisi', 'jäljelle', 'jäljellä', 'jäljenen', 'jäljessä', 'jäljet', 'jälki', 'jälkimmäinen', 'jäniknen', 'jänis', 'jännittävä', 'jännittää', 'jännitykse', 'jännitys', 'järjestys', 'järjestää', 'järkevä', 'järki', 'järvi', 'jäsen', 'jättää', 'jäykkä', 'jäykästi', 'jäädä', 'jääkö', 'jäämään', 'kaakku', 'kaali', 'kaalimato', 'kaamea', 'kaapata', 'kaappi', 'kaari', 'kaarina', 'kaataa', 'kaatua', 'kadota', 'kadottaa', 'kahdesti', 'kahvi', 'kaikenlainen', 'kaiketi', 'kaikin', 'kaikkein', 'kaiku', 'kaikua', 'kainalo', 'kainalossa', 'kaipata', 'kaite', 'kaivaa', 'kaivata', 'kaivella', 'kaivo', 'kajahtaa', 'kajahtää', 'kakku', 'kaksisilmä', 'kaksoinen', 'kala', 'kalja', 'kallio', 'kallis', 'kallistua', 'kalpea', 'kalpeaksi', 'kalpeni', 'kaltainen', 'kaltaisia', 'kalu', 'kamala', 'kamalasti', 'kamari', 'kamari-neitsyt', 'kamreeri', 'kana', 'kani', 'kanne', 'kannella', 'kannelle', 'kannu', 'kansa', 'kansi', 'kanssansa', 'kanta', 'kantaa', 'kantaja', 'kantamaan', 'kantanut', 'kantapää', 'kanto', 'kantoinen', 'kanttoori', 'kapea', 'kapine', 'kappale', 'kapteeni', 'kapuaa', 'kapusi', 'kara', 'karamelli', 'karana', 'karata', 'karhu', 'karja', 'karjua', 'karkasivat', 'karkea', 'karkoittaa', 'karkuun', 'karsina', 'kartano', 'karttua', 'karva', 'karvainen', 'kas', 'kasa', 'kaskelotti', 'kastua', 'kasva', 'kasvaa', 'kasvattaa', 'kasvatus', 'kasvo', 'kasvoi', 'kasvoihin', 'kasvoilla', 'kasvoilleen', 'kasvoilta', 'kasvoissaan', 'kasvoista', 'kasvoja', 'kasvojaan', 'kasvoje', 'kasvon', 'kasvonsa', 'kasvot', 'kata', 'kateellinen', 'katkaista', 'katkera', 'katkerasti', 'katkeri', 'katkeruus', 'katketa', 'kato', 'katosivat', 'katosta', 'katsahtaa', 'katsahti', 'katsahtiä', 'katse', 'katsee', 'katseensa', 'katsei', 'katsela', 'katselemassa', 'katselia', 'katsella', 'katsellessaan', 'katsoa', 'katsohan', 'katsokaas', 'katsoppas', 'katsos', 'kattila', 'kattilanpaikkaaja', 'katto', 'katu', 'katua', 'kauas', 'kauemmaksi', 'kauemmin', 'kauempaa', 'kauempana', 'kauesti', 'kauhe', 'kauhea', 'kauheasti', 'kauheata', 'kauhistava', 'kauhistua', 'kauhistuneena', 'kauhistus', 'kauhu', 'kaukaa', 'kaukainen', 'kaula', 'kaulaansa', 'kaulansa', 'kauluknen', 'kaulus', 'kaun', 'kauneus', 'kauni', 'kaunii', 'kauniimpi', 'kauniisti', 'kauniita', 'kaunis', 'kauppa', 'kauppaneuvos', 'kauppias', 'kaupunki', 'kaura', 'kauris', 'kavahtaa', 'kavala', 'kavaljeeri', 'kehno', 'kehoittaa', 'kehottaa', 'kehua', 'keiju', 'keikkua', 'keino', 'keisari', 'keittiö', 'keittäjätär', 'keittämä', 'keittää', 'keksi', 'keksia', 'keksin', 'keksiä', 'kellari', 'kellertävä', 'kello', 'kelly', 'kelmeä', 'kelpaa', 'kelpo', 'keltainen', 'kelvata', 'kene', 'kenkä', 'kenkään', 'kenttä', 'kepin', 'keppi', 'kerjäläinen', 'kerma', 'kernaasti', 'kerra', 'kerrassa', 'kerrassaan', 'kerro', 'kerros', 'kerrottava', 'kertoa', 'kertoilla', 'kertomukse', 'kertomus', 'kerätä', 'keskenä', 'keskenänsä', 'keskenään', 'keskeyttää', 'keskustella', 'keskustelu', 'kestää', 'kesä', 'kesäkuu', 'ketju', 'kettu', 'kevyt', 'kevät', 'keväänä', 'kiehua', 'kiekko', 'kieli', 'kielletty', 'kieltaa', 'kieltäytyä', 'kieltää', 'kierteleä', 'kiertää', 'kietoa', 'kihara', 'kiihkeä', 'kiihkeästi', 'kiihtyä', 'kiiltävä', 'kiiltää', 'kiilua', 'kiinni', 'kiinnitetty', 'kiinnittää', 'kiinteä', 'kiinteästi', 'kiintyä', 'kiipesää', 'kiire', 'kiireesti', 'kiirehtiä', 'kiiruhtaa', 'kiiruimman', 'kiiruusti', 'kiiti', 'kiitollinen', 'kiitollisuus', 'kiittämätö', 'kiittää', 'kiitä', 'kiitää', 'kiivaasti', 'kiivas', 'kiivasta', 'kiivastua', 'kiivetä', 'kiljua', 'kiljuva', 'kilo', 'kilometri', 'kiltisti', 'kilttaa', 'kiltti', 'kilttää', 'kimeä', 'kimeällä', 'kimppuun', 'kinterei', 'kintereillään', 'kipeä', 'kipeästi', 'kirja', 'kirjaa', 'kirjailija', 'kirjain', 'kirjansa', 'kirjava', 'kirje', 'kirjee', 'kirjeet', 'kirjeluettelo', 'kirjoittaa', 'kirjoittaminen', 'kirjottaa', 'kirkas', 'kirkastua', 'kirkkaasti', 'kirkko', 'kirkua', 'kiroilla', 'kirota', 'kirottu', 'kirouknen', 'kirous', 'kirveen', 'kirves', 'kiskoa', 'kiskoi', 'kissa', 'kissanpoikanen', 'kisso', 'kita', 'kitas', 'kiukaa', 'kiukaan', 'kiukku', 'kiukkuinen', 'kiukkuisesti', 'kiulu', 'kiusa', 'kive', 'kiveen', 'kivi', 'kivimuuri', 'kivinen', 'kodassa', 'koetella', 'koettaa', 'koettakaamme', 'koettella', 'koetti', 'koettää', 'kohauttaa', 'kohdata', 'kohdella', 'kohdu', 'kohina', 'kohota', 'kohottaa', 'kohottää', 'kohta', 'kohtalo', 'kohtasi', 'kohtaus', 'kohtausta', 'kohteliaasti', 'kohtelias', 'koira', 'koittaa', 'koivu', 'koivuinen', 'kokea', 'kokemus', 'kokki', 'kokoinen', 'kokonainen', 'kokoon', 'kokoontua', 'kokous', 'kolikko', 'kolina', 'kolkko', 'kolkuttaa', 'kolmasti', 'kolmisilmä', 'kolo', 'koloti', 'komea', 'komero', 'komesrootti', 'kompastua', 'kone', 'konsanaan', 'konstaapeli', 'konsti', 'konti', 'kontio', 'kontti', 'konttori', 'konttoristi', 'koota', 'koppa', 'koputtaa', 'koputtää', 'korea', 'koreasti', 'kori', 'koristea', 'korjata', 'korkea', 'korkeakoulu', 'korkeus', 'korkeuteen', 'korpeen', 'korpinrasva', 'korsu', 'kortteli', 'kortti', 'korva', 'korvaa', 'korvat', 'korvi', 'korvia', 'korvii', 'korvte', 'koskapa', 'koskea', 'koskettaa', 'kostea', 'kosto', 'kota', 'koti', 'kotia', 'kotihin', 'kotimatka', 'kotka', 'koto', 'kotoa', 'kotoisin', 'kotona', 'kotonaan', 'koukku', 'koulu', 'koura', 'kouri', 'kova', 'kovasti', 'kristillinen', 'kristitty', 'kruunu', 'kuilu', 'kuinkahan', 'kuinkas', 'kuiska', 'kuiskasi', 'kuiskata', 'kuisti', 'kuiva', 'kuivasti', 'kuivata', 'kuja', 'kujalle', 'kukka', 'kukkaro', 'kukko', 'kuljettaa', 'kuljimme', 'kulkea', 'kulkiessaan', 'kulku', 'kulla', 'kulma', 'kulta', 'kultainen', 'kultaraha', 'kultas', 'kultaseni', 'kulua', 'kuluttaa', 'kumarassa', 'kumarsi', 'kumartua', 'kumartää', 'kumma', 'kummallinen', 'kummallisesti', 'kummastuneena', 'kumminka', 'kumminkaan', 'kumminkin', 'kummitus', 'kummu', 'kumoon', 'kumppani', 'kunhan', 'kuningas', 'kuningatar', 'kuninkaa', 'kuninkaalle', 'kuninkaallinen', 'kuninkaan-tyttären', 'kuninkaan-tytär', 'kuninkaanna', 'kunnia', 'kunniallinen', 'kunnioittaa', 'kunnioittavasti', 'kunnioitus', 'kunnollinen', 'kunnollisesti', 'kunnon', 'kunnossa', 'kunpa', 'kunta', 'kunto', 'kuohu', 'kuohua', 'kuohuva', 'kuola', 'kuolea', 'kuolema', 'kuolemaisillaan', 'kuolia', 'kuoliaaksi', 'kuolla', 'kuolleen', 'kuolleena', 'kuollei', 'kuono', 'kuoppa', 'kuori', 'kuoria', 'kuorma', 'kupee', 'kupi', 'kuppi', 'kuri', 'kurja', 'kurkisella', 'kurkistaa', 'kurkisti', 'kurkku', 'kurkkuu', 'kutsu', 'kutsua', 'kuu', 'kuuhun', 'kuukausi', 'kuula', 'kuulea', 'kuulehan', 'kuuletko', 'kuuletteko', 'kuulivat', 'kuulkaa', 'kuulkaahan', 'kuulkaat', 'kuulla', 'kuulli', 'kuulostaa', 'kuulosti', 'kuultaa', 'kuultua', 'kuulua', 'kuuluia', 'kuuluisa', 'kuuma', 'kuume', 'kuunnella', 'kuuntelea', 'kuuntelee', 'kuva', 'kuvailla', 'kuvastua', 'kuvata', 'kuvauknen', 'kuvaus', 'kuvitella', 'kyenä', 'kykene', 'kykeni', 'kyky', 'kylki', 'kylli', 'kyllin', 'kyllähän', 'kylläkin', 'kylläpä', 'kyllästyä', 'kylmä', 'kylmästi', 'kylä', 'kynnys', 'kynsi', 'kynttilä', 'kynttilää', 'kynä', 'kypenäinen', 'kypsä', 'kysellä', 'kysyin', 'kysyivät', 'kysymys', 'kysyä', 'kysäsi', 'kysästä', 'kyyhkynen', 'kyynel', 'kyyneleet', 'kyyneleitä', 'kyyneli', 'kyynärä', 'kyyristyä', 'kyyti', 'käde', 'kädellä', 'kädessä', 'kädestä', 'kädestään', 'käkriäinen', 'käkriäisen', 'käpälä', 'kärnen', 'kärpänen', 'kärsimys', 'kärsimättömästi', 'kärsivällinen', 'kärsivällisesti', 'kärsiä', 'käräjätalo', 'käs', 'käsi', 'käsiala', 'käsii', 'käsiksi', 'käsillä', 'käsistään', 'käsitellä', 'käsittämätön', 'käsittää', 'käsitys', 'käsivarre', 'käsivarret', 'käsivarsi', 'käsivarte', 'käsivarteen', 'käsiänsä', 'käsiään', 'käskea', 'käsken', 'käskeä', 'käski', 'käskia', 'käsky', 'käteensä', 'kätellä', 'kätensä', 'kätkeä', 'kätki', 'kätkö', 'kättänsä', 'kättään', 'kävellä', 'kävely', 'kävi', 'käy', 'käya', 'käydessään', 'käydä', 'käykäämme', 'käymme', 'käynti', 'käypi', 'käys', 'käyskelia', 'käyskella', 'käyttäytyä', 'käyttää', 'käytävä', 'käytökse', 'käytös', 'käyä', 'käännyin', 'käännähtää', 'kääntyä', 'kääntää', 'kääpiö', 'kääri', 'kääriytyä', 'käärme', 'käärön', 'kömpelö', 'kömpi', 'köy', 'köyhä', 'köyhäintalo', 'köyhät', 'köys', 'köysi', 'laahata', 'laaja', 'laakso', 'laatia', 'laatikko', 'laattia', 'laattialle', 'laatu', 'lahja', 'lahjoittaa', 'lahti', 'laiha', 'laiho', 'lailla', 'laillinen', 'lainkaan', 'laisinkaan', 'laiska', 'laita', 'laittaa', 'laitume', 'laituri', 'laiva', 'laivalle', 'laivamies', 'laji', 'lakana', 'lakata', 'lakea', 'laki', 'lakkaamatta', 'lakki', 'lammas', 'lammi', 'lammikko', 'lampi', 'lamppu', 'lanka', 'lankesi', 'lankku', 'lapse', 'lapsellinen', 'lapsi', 'lapsiaan', 'lasi', 'laske', 'laskea', 'laskeutua', 'laski', 'lasku', 'lato', 'lattia', 'latva', 'lauantai', 'lauhkea', 'laula', 'laulaa', 'laulu', 'lauma', 'laura-tädin', 'laura-täti', 'lause', 'lausu', 'lausua', 'lausuessa', 'lausumas', 'lausunut', 'lauta', 'lautamies', 'lautanen', 'lautei', 'lauteis', 'lauto', 'lavendel', 'lehahtaa', 'lehma', 'lehmi', 'lehmä', 'lehti', 'lehto', 'leikata', 'leikin', 'leikkasi', 'leikki', 'leikkiä', 'leimahdus', 'leimaus', 'leipä', 'leja', 'lempeä', 'lempeästi', 'lensi', 'lensiä', 'lenta', 'lentää', 'lepikko', 'lepo', 'lepäsi', 'lepäsivät', 'leski', 'leuka', 'leuta', 'leveä', 'levittaa', 'levittää', 'levitä', 'levo', 'levoton', 'levottoma', 'levottomasti', 'levottomuus', 'levällään', 'levänä', 'levätä', 'liehua', 'liekki', 'liemi', 'lieneekö', 'lies', 'liha', 'lihaa', 'lihava', 'liiaksi', 'liikaa', 'liikahtaa', 'liike', 'liikkeelle', 'liikkua', 'liikkumattoma', 'liikuttaa', 'liikutus', 'liioin', 'liisa', 'liitto', 'liittyä', 'liittää', 'liivi', 'likainen', 'linna', 'linnaan', 'lintu', 'lintunen', 'lippu', 'lisä', 'lisäsi', 'lisätä', 'lisääntyä', 'liukua', 'livistää', 'lkä', 'lohduttaa', 'lohdutu', 'loi', 'loida', 'loistaa', 'loistava', 'loistia', 'loisto', 'lokakuu', 'lopettaa', 'loppu', 'loppua', 'loppujen', 'lopuksi', 'lopulta', 'loputtua', 'lordi', 'loukata', 'loukkaantua', 'loukkaantuneena', 'lua', 'luin', 'luja', 'lujasti', 'lukea', 'lukija', 'lukkari', 'lukko', 'luku', 'lumi', 'lun', 'luoda', 'luoja', 'luokalle', 'luokka', 'luokse', 'luoksi', 'luola', 'luoma', 'luon', 'luonaan', 'luonne', 'luonnollinen', 'luonnollisesti', 'luontee', 'luonto', 'luopua', 'luos', 'luota', 'luoti', 'luottaa', 'luottamus', 'luovu', 'luovuttaa', 'lupa', 'lupaan', 'lupasin', 'lupaus', 'lurjus', 'lusikka', 'luu', 'luukas', 'luukasta', 'luukku', 'luula', 'luule', 'luulea', 'luulen', 'luulenpa', 'luuletko', 'luuletteko', 'luulin', 'luulla', 'luullakseni', 'luulo', 'luultava', 'luultavasti', 'luulteä', 'luuta', 'luva', 'luvata', 'lyhyesti', 'lyhyt', 'lykätä', 'lysti', 'lyygia', 'lyö', 'lyödä', 'lyös', 'lyöä', 'lähde', 'lähdtää', 'läheinen', 'läheisyys', 'lähemmin', 'lähemmäksi', 'lähempänä', 'lähestyä', 'lähettää', 'lähetä', 'lähistö', 'lähteen', 'lähtekäämme', 'lähteä', 'lähtiessään', 'lähtisi', 'lähtö', 'läksi', 'läksivät', 'läksiä', 'lämmin', 'lämmittää', 'lämpimästi', 'lämpöinen', 'länsi', 'läpitse', 'läsnä', 'läsnäolo', 'läähättää', 'lääke', 'lääkäri', 'lääni', 'lääti', 'läävä', 'löivät', 'löydä', 'löyly', 'löylyttää', 'löytyä', 'löytää', \"ma'ata\", 'maa', 'maailma', 'maalana', 'maalata', 'maana', 'maanantai', 'maantie', 'maar', 'maata', 'maha', 'mahdollinen', 'mahdollisesti', 'mahdollisuus', 'mahdoto', 'mahdoton', 'mahdottoma', 'mahtaa', 'mahtava', 'mahtua', 'maili', 'mailma', 'maine', 'mainio', 'mainiosti', 'mainiota', 'mainita', 'maisema', 'maistaa', 'maistua', 'maito', 'maitokamari', 'maja', 'maka', 'makaaa', 'makaamaan', 'makasi', 'makasia', 'makata', 'makea', 'makeasti', 'makkara', 'maksaa', 'maku', 'makuu', 'malakias', 'malja', 'malli', 'malttaa', 'mansikka', 'marilla', 'marja', 'markka', 'marssia', 'masto', 'mastoi', 'mata', 'matala', 'matalalla', 'matikka', 'matka', 'matkoihinsa', 'matkustaa', 'matkustaja', 'matkustama', 'mato', 'matruusi', 'matto', 'mauno', 'mekko', 'melkoinen', 'melkoisesti', 'melu', 'men', 'mene', 'menea', 'menemästä', 'menestys', 'menetellä', 'menettää', 'menevän', 'menkää', 'menkö', 'menköön', 'menneke', 'mennä', 'mennään', 'meno', 'menoja', 'mentyä', 'mentyään', 'mentävä', 'menää', 'mer', 'meri', 'merillä', 'merimies', 'merkiksi', 'merkillinen', 'merkillistä', 'merkinä', 'merkitse', 'merkitsevästi', 'merkitys', 'merkitä', 'merkki', 'meteli', 'metri', 'metsa', 'metsi', 'metsikkö', 'metsä', 'metsästäjä', 'metys', 'miehe', 'mieheen', 'miehellä', 'mieheltä', 'miehestä', 'miehet', 'miehi', 'miehissä', 'miehistä', 'miehistö', 'miekka', 'miele', 'mieleensä', 'mielellä', 'mielellään', 'mielenkiinto', 'mielenkiintoinen', 'mielentila', 'mielessäni', 'mielessään', 'mielestäsi', 'mieli', 'mieliala', 'mielihyvä', 'mielikuvitus', 'mielipide', 'mielissään', 'miellyttävä', 'miellyttää', 'mieltyä', 'mieltä', 'mieltänsä', 'mieltään', 'mieluimmin', 'mieluisa', 'mieluisasti', 'mieluummin', 'mies', 'mietittyä', 'miettiväinen', 'miettiä', 'mikki', 'miks', 'mikäkin', 'millainen', 'milloinkaan', 'millänsäkään', 'miltei', 'milty', 'minkälainen', 'minkätähden', 'minkäänlainen', 'minuutti', 'missäs', 'mitenkä', 'mitenkään', 'mitta', 'mitäpä', 'moinen', 'moitti', 'mokoma', 'mokomin', 'moottori', 'morsia', 'morsiami', 'mrs', 'muija', 'muino', 'muinoin', 'muis', 'muistaa', 'muistatko', 'muistella', 'muistelli', 'muistiin', 'muistikirja', 'muisto', 'muistua', 'muistuttaa', 'muitten', 'mukaata', 'mukainen', 'mukava', 'mukavasti', 'mummo', 'muna', 'muodostaa', 'muori', 'muoto', 'muotoinen', 'muotokuva', 'mura', 'murahtaa', 'murahtia', 'murhaaja', 'murhe', 'murheellinen', 'murmeli', 'murmella', 'murray', 'murrayin', 'murrayt', 'murtua', 'musta', 'mustassa', 'musti', 'muta', 'mutia', 'mutisi', 'mutista', 'muttinen', 'muukalainen', 'muuri', 'muutoin', 'muutos', 'muuttaa', 'muuttua', 'mykkä', 'mylly', 'myllylle', 'mylläri', 'myrkky', 'myrkyllinen', 'myrkyttää', 'myrsky', 'mytty', 'myydä', 'myöhä', 'myöhäinen', 'myöhästyä', 'myöhään', 'myönnä', 'myöntyä', 'myöntävästi', 'myöntää', 'myöten', 'mäe', 'mäkeä', 'mäki', 'mälli', 'männistö', 'mänty', 'mäntyjen', 'märkä', 'mäyrä', 'määrin', 'määrä', 'määränä', 'määrätä', 'määräys', 'mökin', 'mökki', 'mökä', 'naama', 'naamaa', 'naapuri', 'nahka', 'nahkapeitturi', 'naimattoma', 'naimisiin', 'naimisissa', 'nainen', 'nancy', 'nancy-tädin', 'nancy-täti', 'nancytäti', 'nappi', 'narrata', 'nauha', 'naukua', 'naula', 'nauraa', 'naurahtaa', 'naurettava', 'nauru', 'nauta', 'nauttaa', 'nauttia', 'navetta', 'neekeri', 'neid', 'neidi', 'neidin', 'neitaa', 'neiti', 'neitihän', 'neito', 'neitonen', 'neitsy', 'neitää', 'neljäkymmentä', 'neljännes', 'neljäs', 'nenä', 'nenäliina', 'nenäliita', 'nenälleen', 'nenää', 'nenäänsä', 'nero', 'net', 'neula', 'neuvo', 'neuvoa', 'neuvottelu', 'niemi', 'niinhän', 'niinktu', 'niinktua', 'niinkuin', 'niinkö', 'niinpä', 'niita', 'niittu', 'niitty', 'niittää', 'niity', 'nilkka', 'nimeen', 'nimetä', 'nimi', 'niminen', 'nimismies', 'nimittäin', 'nimittää', 'nipistää', 'niska', 'niskoi', 'noa', 'noitten', 'noja', 'nojata', 'nojatuoli', 'nojautua', 'nokinen', 'nokka', 'nolo', 'nopea', 'nopeaan', 'nostaa', 'notkea', 'noudattaa', 'nous', 'nouse', 'nousta', 'noustua', 'noutaa', 'nukahtaa', 'nukkua', 'nukkuva', 'nukuttaa', 'numero', 'numme', 'nummella', 'nummi', 'nuora', 'nuori', 'nuorukainen', 'nuoruus', 'nuot', 'nuottakota', 'nuri', 'nurka', 'nurkalla', 'nurkalle', 'nurkka', 'nurmi', 'nurmikko', 'nykyinen', 'nykyään', 'nyrkki', 'nytpä', 'nyyhkytti', 'nyyhkyttää', 'nyökkäsi', 'nyökätä', 'näet', 'näetkös', 'näette', 'näettekö', 'näha', 'nähden', 'nähdessäni', 'nähdessään', 'nähdä', 'nähkääs', 'nähtyä', 'nähtävästi', 'näitten', 'näkeminen', 'näkevänsä', 'näky', 'näkyvi', 'näkyvissä', 'näkyvistä', 'näkyä', 'näköinen', 'nälkä', 'nälkäinen', 'nälä', 'nämät', 'näppärästi', 'närkästyä', 'näytelmä', 'näyttivät', 'näyttlä', 'näyttä', 'näyttäytyä', 'näyttää', 'näyttääs', 'näytäa', 'nöyrä', 'nöyrästi', 'odotapas', 'odottaa', 'odottakaa', 'odotus', 'ohitse', 'ohjata', 'ohut', 'oikealle', 'oikeassa', 'oikeastaan', 'oikeata', 'oikeus', 'oikotie', 'oiva', 'oivallinen', 'oivallisesti', 'oja', 'ojentaa', 'oksa', 'oksi', 'ola', 'olekkaan', 'olenhan', 'olenpa', 'olento', 'oleskella', 'olethan', 'oletkin', 'oletteko', 'olikaan', 'oliver', 'oliveri', 'oljet', 'olka', 'olkapäitään', 'olkapää', 'olki', 'olko', 'olkoon', 'ollee', 'ollen', 'ollenkaan', 'olo', 'olosuhteissa', 'olut', 'omaisuus', 'omatunto', 'omena', 'ominaisuus', 'omistaa', 'omistaja', 'omituinen', 'omituisesti', 'omituisuus', 'ompa', 'ompeluseura', 'onne', 'onneksi', 'onnellinen', 'onnellisesti', 'onnellisi', 'onneton', 'onnetonta', 'onnettoma', 'onnettomi', 'onnettomuus', 'onni', 'onnistua', 'opettaa', 'opettaja', 'opettajaneiti', 'opetus', 'oppi', 'oppia', 'oppilas', 'orpo', 'orvokki', 'osa', 'osata', 'osittain', 'osoite', 'osoittaa', 'osoittautua', 'osottaa', 'ostaa', 'ostaja', 'osua', 'otaksu', 'otaksua', 'otsa', 'otsalla', 'otsansa', 'otsatukka', 'ottaa', 'ottakaa', 'otus', 'outo', 'ovela', 'ovi', 'p:nä', 'paa', 'paatua', 'paavi', 'paeta', 'paha', 'pahanpäiväisesti', 'pahasti', 'pahempi', 'pahesti', 'pahoillaan', 'pahoin', 'paholainen', 'paikallaan', 'paikalleen', 'paikka', 'paikoi', 'paikoilleen', 'paikoin', 'painaa', 'painava', 'paino', 'painokkaasti', 'painua', 'paiskata', 'paistaa', 'paisti', 'paistoää', 'paisua', 'paita', 'pakenea', 'paketti', 'pakkanen', 'pakko', 'pakoittaa', 'pakoon', 'pakottaa', 'paksu', 'pala', 'palaa', 'palana', 'palanen', 'palasia', 'palata', 'palattua', 'palauttaa', 'paljaa', 'paljas', 'paljasta', 'paljastaa', 'paljo', 'paljoa', 'paljonko', 'palkinto', 'palkita', 'palkka', 'pallo', 'palveli', 'palvelija', 'palvella', 'palvelus', 'palvelustyttö', 'pana', 'pane', 'panen', 'pani', 'pania', 'panin', 'pankinjohtaja', 'panna', 'pannen', 'pannu', 'pantiin', 'paperi', 'paperossi', 'pappi', 'papukaija', 'para', 'paraika', 'paraillaan', 'parantaa', 'parast', 'parasta', 'parastansa', 'paratko', 'paremmaksi', 'paremmalta', 'paremminkin', 'parempia', 'parhaansa', 'parhaat', 'pari', 'parka', 'parkua', 'parra', 'parsilainen', 'parta', 'partaa', 'parvi', 'pastori', 'pata', 'peeveli', 'pehmeä', 'pehmittää', 'peijakas', 'peijakkaan', 'peikko', 'peili', 'peitossa', 'peitto', 'peittyä', 'peittä', 'peittämä', 'peittää', 'pelastaa', 'pelastua', 'pelata', 'peleg', 'peli', 'pelkkä', 'pelko', 'pelkuri', 'pelkä', 'pelkäsin', 'pelkästään', 'pelkää', 'pelkään', 'pello', 'pellolla', 'peloissa', 'peloitda', 'peloittaa', 'pelottaa', 'pelto', 'pelä', 'pelänä', 'pelästyä', 'pelätä', 'penikka', 'penikulma', 'peninkulma', 'penkki', 'pensas', 'pentu', 'perhana', 'perhe', 'perhee', 'perikö', 'perille', 'perin', 'periä', 'perkele', 'permanto', 'pertta', 'perukka', 'peruna', 'peruno', 'peruste', 'perä', 'perämies', 'perässä', 'perästä', 'perästään', 'peräytyä', 'pesi', 'pestä', 'pesä', 'peto', 'pettymys', 'pettyä', 'pettää', 'petäjä', 'peukalo', 'peukalopoika', 'piankin', 'pidellä', 'pidättää', 'piene', 'pienenä', 'pienetä', 'pienintäkään', 'pienistä', 'pienoinen', 'pienokainen', 'piha', 'piia', 'piika', 'piilla', 'piilo', 'piilopaikka', 'piimä', 'piippu', 'piippua', 'piippunsa', 'piiri', 'piirre', 'piirtää', 'pik', 'pikesti', 'piki', 'pikiä', 'pikku', 'pikkuinen', 'pikkuisen', 'pila', 'pilalle', 'pilkallisesti', 'pilkka', 'pilvi', 'pilvistä', 'pilvä', 'pimeys', 'pimeyteen', 'pimeä', 'pinta', 'pippuri', 'pirtissä', 'pirtti', 'pirttiin', 'piru', 'pirullinen', 'pisara', 'pistellä', 'pisti', 'pistooli', 'pistänyt', 'pistäytyä', 'pistää', 'pitella', 'pitemmälle', 'pitempi', 'pitki', 'pitkä', 'pitkälle', 'pitkää', 'pitkään', 'pito', 'pituinen', 'pitäjä', 'pitäkää', 'pitää', 'pohja', 'pohjoinen', 'pohtia', 'poika', 'poikanen', 'poikas', 'poikaseni', 'poiketa', 'poiki', 'poikien', 'poikkesia', 'poimia', 'pois', 'poispäin', 'poissa', 'poistaa', 'poistua', 'poja', 'pojalla', 'pojalle', 'pojat', 'poji', 'pojille', 'pojka', 'poju', 'poliisi', 'polkea', 'polku', 'poloinen', 'polttaa', 'polu', 'polvi', 'polvillaan', 'polvistua', 'porsaan', 'porsas', 'porta', 'portaa', 'portaat', 'portahi', 'portai', 'portaille', 'porti', 'portti', 'poske', 'poski', 'potatti', 'potilas', 'potkaä', 'preciosa', 'priesti', 'prinsessa', 'prinssi', 'professori', 'provasti', 'provastimme', 'puaa', 'pudistaa', 'pudisti', 'pudo', 'pudota', 'pudottaa', 'puettu', 'puhaltaa', 'puhdas', 'puhdistaa', 'puhe', 'puhee', 'puheenaihe', 'puheenjohtaja', 'puheli', 'puhketa', 'puhtaa', 'puhtaaksi', 'puhua', 'puhuessa', 'puhut', 'puhutella', 'puhuttava', 'puhuttella', 'puhuva', 'puitten', 'pujahtaa', 'pujahti', 'pukea', 'pukeutua', 'puki', 'puku', 'pula', 'pullo', 'pulma', 'pulpeti', 'punainen', 'punaisi', 'punakerttu', 'punaruusu', 'punastua', 'punertava', 'punta', 'puole', 'puoleen', 'puoleksi', 'puoli', 'puolin', 'puolipäivä', 'puoliso', 'puolittain', 'puoliääneen', 'puolta', 'puolustaa', 'puoti', 'puristaa', 'puristi', 'purjeet', 'purjehtia', 'purkaa', 'puro', 'purra', 'purri', 'purskahti', 'puskea', 'pussi', 'putosivat', 'puu', 'puuha', 'puukko', 'puuro', 'puutarha', 'puutarhaan', 'puute', 'puuttua', 'puvu', 'pyhä', 'pyhäkoulu', 'pykälä', 'pyrkiä', 'pyrstö', 'pyssy', 'pysty', 'pystyssä', 'pystyyn', 'pystyä', 'pysy', 'pysytellä', 'pysyä', 'pysähtyä', 'pysäyttää', 'pyydä', 'pyyhki', 'pyyntö', 'pyytämään', 'pyytää', 'pyöreä', 'pyöri', 'pyöriä', 'pyörtyä', 'pyörä', 'pyörähtää', 'pähkinä', 'pähkinöitä', 'päi', 'päin', 'päinvastoin', 'päivä', 'päivällinen', 'päivällise', 'päivällistä', 'päivänvalo', 'pässi', 'pässiä', 'pää', 'päädä', 'päähä', 'päähänsä', 'pääkallo', 'päällemme', 'päälleni', 'päällikkö', 'päällä', 'päältä', 'päämäärä', 'pääsemä', 'pääset', 'pääsevä', 'päässä', 'päässään', 'päästyä', 'päästyään', 'päästä', 'päästää', 'päät', 'päätellä', 'päättyä', 'päättävästi', 'päättää', 'päätäni', 'päätänsä', 'päätös', 'pöly', 'pöydältä', 'pöydässä', 'pöytä', 'pöytää', 'raha', 'rahoi', 'rahtuakaan', 'raikas', 'raivo', 'raivoissaan', 'raivosi', 'raivostua', 'raja', 'rajamäki', 'raju', 'rajuilma', 'rajusti', 'rakas', 'rakastaa', 'rakastettava', 'rakasti', 'rakastua', 'rakennus', 'rakentaa', 'rakkaa', 'rakkaita', 'rakkaus', 'rako', 'rangaistus', 'ranna', 'rannalta', 'ranta', 'rao', 'rapaa', 'raskaasti', 'raskas', 'rasva', 'ratkaista', 'ratkaisu', 'ratsastaa', 'ratsastaja', 'rauha', 'rauhaan', 'rauhallinen', 'rauhallisesti', 'rauhoittaa', 'rauhoittua', 'raukka', 'raukkaa', 'rauta', 'ravinto', 'ravintola', 'ravistaa', 'ravistella', 'ravisti', 'rehellinen', 'rehtori', 'reikä', 'reippaasti', 'renki', 'repekka', 'repiä', 'retke', 'retki', 'reuna', 'revolveri', 'rhoda', 'riehua', 'riemu', 'riennä', 'riensää', 'rientää', 'riippua', 'riis', 'riisua', 'riita', 'riittävästi', 'riittää', 'riivata', 'riivattu', 'rikas', 'rikkaa', 'rikkaan', 'rikkaus', 'rikki', 'rikkoa', 'rikollinen', 'rikos', 'rinna', 'rinnalla', 'rinne', 'rinta', 'rintaa', 'rinte', 'rintee', 'ripustaa', 'ripusti', 'risti', 'ristiin', 'ristti', 'risu', 'ritari', 'rivi', 'rohkea', 'rohkeasti', 'rohkeni', 'rohkeus', 'rohto', 'roikkua', 'roisto', 'romaani', 'romanttinen', 'rosina', 'rosvo', 'rotta', 'roua', 'rouva', 'rukka', 'rukoili', 'rukoilla', 'rukoilää', 'ruma', 'runa', 'runko', 'runo', 'runoilija', 'runoja', 'runsas', 'ruoho', 'ruoka', 'ruokahalu', 'ruokasali', 'rupea', 'rupeaa', 'rupesi', 'rupesipa', 'rupesivat', 'rupeta', 'ruskea', 'ruth-täti', 'ruthtäti', 'ruto', 'ruumi', 'ruumii', 'ruumis', 'ruumista', 'ruusu', 'ruutu', 'ruvena', 'ruveta', 'ryhtyä', 'rykelmä', 'rynnätä', 'ryntää', 'rypistää', 'ryömi', 'ryöväri', 'räätäli', 'saa', 'saada', 'saako', 'saalii', 'saalis', 'saapas', 'saapua', 'saapuia', 'saara', 'saari', 'saarna', 'saat', 'saatana', 'saatavissa', 'saattaa', 'saatte', 'saattoia', 'saatua', 'saavani', 'saavuttaa', 'sade', 'saha', 'sairaa', 'sairas', 'sairastua', 'sairaus', 'saisimme', 'sakea', 'salaa', 'salainen', 'salaisuus', 'salama', 'salaperäinen', 'salaperäistä', 'salapoliisi', 'salassa', 'salata', 'salavihka', 'sali', 'salli', 'sallia', 'sallittu', 'salo', 'samanlainen', 'samassa', 'sammakko', 'sammaleinen', 'sammua', 'sana', 'sanaak', 'sanaaka', 'sanelma', 'sangen', 'sankari', 'sankarittari', 'sanko', 'sano', 'sanoa', 'sanoen', 'sanoi', 'sanoipa', 'sanoitte', 'sanokaa', 'sanoma', 'sanomalehti', 'sanon', 'sanoppas', 'sanottava', 'sanotte', 'sanottua', 'sanovan', 'sanukka', 'sappea', 'sarvi', 'sas', 'satama', 'sato', 'sattua', 'sattuma', 'sattumalta', 'satu', 'sauna', 'saunaan', 'saunalle', 'savu', 'savupiippu', 'seikka', 'seikkailu', 'seina', 'seini', 'seinä', 'seisahtua', 'seiso', 'seisoa', 'seisoia', 'seisoiva', 'seisomme', 'seistä', 'seiväs', 'sekaantua', 'sekaisin', 'sekava', 'sekunti', 'selittää', 'selitys', 'seljässä', 'selko', 'selkä', 'selkää', 'sellainen', 'sellaisia', 'selvi', 'selville', 'selvillä', 'selvinä', 'selvittää', 'selvitä', 'selvyy', 'selvä', 'selvästi', 'selälleen', 'selässä', 'semmoi', 'semmoinen', 'semmoise', 'semmoista', 'senjälkeen', 'sentähden', 'sentähs', 'sentään', 'senvuo', 'senvuoksi', 'sepittää', 'sepä', 'serkku', 'seteli', 'setä', 'seura', 'seuraa', 'seuraan', 'seuraava', 'seurakunta', 'seuralaisensa', 'seurasa', 'seurassaan', 'seurata', 'seuraus', 'seutu', 'shillinki', 'sidottu', 'sielu', 'sieppata', 'sietää', 'sievä', 'sievästi', 'siinäpä', 'siipi', 'siirtyä', 'siirtää', 'siisti', 'siivi', 'siivo', 'siivosti', 'sija', 'sijaita', 'sijassa', 'sijoittaa', 'sika', 'sikari', 'sikes', 'sikeä', 'sikseen', 'sileä', 'silittää', 'silla', 'silloinpa', 'silmie', 'silmii', 'silmilleen', 'silmillä', 'silmillään', 'silmineen', 'silmissään', 'silmistään', 'silmiä', 'silmiänsä', 'silmä', 'silmäilla', 'silmäillä', 'silmälasi', 'silmänräpäyknen', 'silmänräpäykse', 'silmäyknen', 'silmäys', 'sinertävä', 'sininen', 'sinnepäin', 'sinu', 'sisar', 'sisare', 'sisareni', 'sisarenpoika', 'sisari', 'sissi', 'sisu', 'sisälle', 'sisältä', 'sisältää', 'sisältö', 'sisäpuolella', 'sisässä', 'sisään', 'sitoa', 'sittemmin', 'sittenkin', 'sitäpaita', 'sitäpaitsi', 'siunatko', 'sivu', 'sivuitse', 'sohva', 'soia', 'soida', 'soittaa', 'soitto', 'sokea', 'sokeri', 'solakka', 'solmu', 'soma', 'somasti', 'sonni', 'sopia', 'sopiiha', 'sopimatonta', 'sopimus', 'sopiva', 'sormi', 'sormus', 'sorsa', 'sota', 'sotamies', 'sotkea', 'soutaa', 'soutaja', 'soveltua', 'sovi', 'sovinto', 'sovittaa', 'stapleton', 'starbuck', 'stubb', 'sua', 'suhde', 'suihku', 'suin', 'suinkaan', 'suinkin', 'sujua', 'sukeltaa', 'sukka', 'sukkela', 'sukkelasti', 'suko', 'suku', 'sukulais', 'sula', 'sulka', 'sulkea', 'sulkeutua', 'suloinen', 'suloisesti', 'summa', 'sumu', 'sunnuntai', 'suo', 'suoda', 'suoja', 'suojella', 'suola', 'suoni', 'suonut', 'suora', 'suorastaan', 'suorittaa', 'suosia', 'suosio', 'suosttu', 'suostua', 'suotta', 'surkea', 'surkeasti', 'surma', 'suru', 'surullinen', 'surullisesti', 'sus', 'susi', 'suu', 'suua', 'suudella', 'suuhu', 'suunnata', 'suunnaton', 'suunne', 'suunnilleen', 'suunniltaan', 'suunnitella', 'suunnitelma', 'suunta', 'suuremmaksi', 'suuresti', 'suurimmassa', 'suus', 'suusi', 'suusta', 'suustaan', 'suutari', 'suuttua', 'suuttumus', 'suututtaa', 'suvaitsette', 'sydäme', 'sydämellinen', 'sydämellisesti', 'sydämensä', 'sydämessä', 'sydämestään', 'sydämi', 'sydämme', 'sydän', 'sydäntä', 'syksy', 'syli', 'synkeä', 'synkkä', 'synkä', 'synkästi', 'synni', 'synnyttää', 'synti', 'syntinen', 'syntymäpäivä', 'syntyä', 'syrjä', 'syrjässä', 'sysätä', 'syttyä', 'sytyttaa', 'sytyttää', 'sytä', 'syventyä', 'syvyys', 'syvä', 'syvällä', 'syvästi', 'syvään', 'syy', 'syyllinen', 'syypää', 'syyskuu', 'syyttää', 'syö', 'syödä', 'syöksyä', 'syömme', 'syömä', 'syömässä', 'syötyä', 'syötävä', 'syötävää', 'syöä', 'sähkösanoma', 'säikähtyä', 'säikähtää', 'säiliö', 'säilyttää', 'säilyä', 'säkeistö', 'säkki', 'sängy', 'sänky', 'säpsähtaa', 'särkeä', 'särki', 'säteillä', 'sävy', 'sää', 'sääli', 'säännöllisesti', 'sääntö', 'sääri', 'säästää', 'söiä', 'taakka', 'taakse', 'taaksepäin', 'taannoin', 'taasen', 'taaskin', 'tahallaan', 'tahdo', 'tahdoin', 'tahdomme', 'tahdon', 'tahdotko', 'tahdotte', 'tahdotteko', 'tahi', 'taho', 'taholle', 'tahra', 'tahtaa', 'tahti', 'tahto', 'tahtoa', 'tahtoisin', 'tahtoita', 'tahtoä', 'taida', 'taipua', 'taipuvainen', 'taistella', 'taistelu', 'taitaa', 'taitava', 'taitavasti', 'taito', 'taittaa', 'taivaa', 'taivaassa', 'taivas', 'taivuttaa', 'tajuta', 'taka', 'takaperin', 'takasin', 'takka', 'takki', 'takoa', 'talli', 'talo', 'talonpoika', 'talonpoja', 'talonsa', 'talteen', 'taluttaa', 'talvi', 'tamma', 'tammi', 'taneli', 'tanssi', 'tanssia', 'tapa', 'tapaa', 'tapahtua', 'tapahtuipa', 'tapahtuma', 'tapainen', 'tapaus', 'tappaa', 'tappelu', 'tappio', 'tappoi', 'taputtaa', 'tarina', 'tarjota', 'tarkastaa', 'tarkastella', 'tarkasti', 'tarkemmin', 'tarkka', 'tarkkaan', 'tarkoin', 'tarkoitaa', 'tarkoitatte', 'tarkoittaa', 'tarkoitus', 'tarkottaa', 'tarpeellinen', 'tarpeen', 'tarttua', 'tarve', 'tarvita', 'tarvitsea', 'tasainen', 'tasapaino', 'tashtego', 'tasku', 'taskunen', 'taskusta', 'taskustaan', 'taskuu', 'taskuveijari', 'taukoama', 'taulu', 'tausta', 'tauti', 'tavallaan', 'tavallinen', 'tavallisesti', 'tavara', 'tavata', 'tavaton', 'tavatto', 'tavoitella', 'tavoittaa', 'teddy', 'teddyn', 'tee', 'teette', 'tehdä', 'tehkää', 'tehtävä', 'tehän', 'tekeillä', 'tekeminen', 'tekemisi', 'tekevä', 'tekevän', 'teko', 'tekojalka', 'tempasi', 'temppu', 'terva', 'tervahöyry', 'tervaskanto', 'terve', 'tervee', 'terveellinen', 'tervehdys', 'tervehtaa', 'tervehtiä', 'terveisiä', 'terveys', 'terä', 'terävä', 'terävästi', 'terää', 'teurastaja', 'tie', 'tiedetään', 'tiedonanto', 'tiedustella', 'tiedät', 'tiedäthän', 'tiedätkö', 'tiedätte', 'tiedättekö', 'tiehensä', 'tien', 'tiesin', 'tietenkin', 'tietenkään', 'tieto', 'tietty', 'tietäita', 'tietää', 'tiheä', 'tila', 'tilaisuus', 'tilanne', 'tilata', 'timantti', 'tipo', 'tirskua', 'tiukasti', 'tiuskasi', 'todellinen', 'todellisuus', 'toden', 'todeta', 'todistaa', 'todistaja', 'todistuknen', 'todistus', 'tohtori', 'toimenpide', 'toimi', 'toimia', 'toiminta', 'toimittaa', 'toimittää', 'toin', 'tointua', 'toipua', 'toise', 'toisenkki', 'toisenlainen', 'toisia', 'toisin', 'toisinaan', 'toissa', 'toistaa', 'toistamiseen', 'toisti', 'toive', 'toivo', 'toivoa', 'toivokaamme', 'toivottaa', 'toivottava', 'toivottavasti', 'tokko', 'tomu', 'topi', 'tori', 'torjua', 'torni', 'torua', 'torvi', 'tosi', 'tosiaan', 'tosissaan', 'totella', 'toteuttaa', 'totinen', 'totisena', 'totisesti', 'totta', 'tottella', 'tottua', 'totuus', 'touhu', 'toukokuu', 'toukola', 'toukolainen', 'toveri', 'tovi', 'tua', 'tuha', 'tuhka', 'tuhkarokko', 'tuhma', 'tuho', 'tuijottaa', 'tuijottivat', 'tuikea', 'tuikeasti', 'tuima', 'tuimasti', 'tukea', 'tuki', 'tukka', 'tukkaa', 'tula', 'tulea', 'tuleeko', 'tulehan', 'tuleva', 'tulevaisuus', 'tuli', 'tulija', 'tulinen', 'tulipa', 'tulipunainen', 'tulisia', 'tulisija', 'tulka', 'tulko', 'tulo', 'tulos', 'tulta', 'tultua', 'tultuansa', 'tumma', 'tunkea', 'tunkeutua', 'tunne', 'tunnen', 'tunnette', 'tunnettu', 'tunnustaa', 'tunnustus', 'tunsia', 'tunta', 'tuntea', 'tuntematon', 'tuntemattoma', 'tunti', 'tuntua', 'tuntuä', 'tuoa', 'tuoda', 'tuokio', 'tuokiossa', 'tuoksu', 'tuoksua', 'tuola', 'tuoli', 'tuolilla', 'tuollainen', 'tuomaan', 'tuomari', 'tuomas', 'tuomio', 'tuomita', 'tuommoinen', 'tuopa', 'tuore', 'tuossahan', 'tuostakin', 'tuostapa', 'tuottaa', 'tupa', 'tupaa', 'tupakka', 'tupanen', 'turha', 'turhaan', 'turkki', 'turva', 'turvautua', 'tusina', 'tuska', 'tuskinpa', 'tuskissaan', 'tuskka', 'tuta', 'tutkia', 'tutkimus', 'tutkinto', 'tuttava', 'tuttavallisesti', 'tuttu', 'tutustua', 'tuuhea', 'tuule', 'tuulen', 'tuuli', 'tuuma', 'tuumia', 'tuva', 'tuvassa', 'tuvasta', 'tyhjentää', 'tyhjä', 'tyhmä', 'tykönsä', 'tynnyri', 'typerä', 'tyttäre', 'tyttäreni', 'tyttö', 'tyttönen', 'tyttöseni', 'tytär', 'tytö', 'tytöstä', 'tytöt', 'tyy', 'tyynenä', 'tyynesti', 'tyyntyä', 'tyytyväinen', 'tyytyä', 'työ', 'työhö', 'työntää', 'työskennellä', 'tädi', 'tähte', 'tähti', 'tähystäjä', 'tällainen', 'tämmöinen', 'tämähän', 'tärkeä', 'täsmälleen', 'tästälähin', 'täti', 'täydellinen', 'täydellisesti', 'täynnä', 'täysi', 'täyteen', 'täyttyä', 'täyttä', 'täyttää', 'täytyä', 'uhata', 'uhkaava', 'uhkea', 'uhrata', 'uhri', 'ukko', 'ukkonen', 'ukkospilvi', 'ukonilma', 'ulappa', 'uljas', 'ulko', 'ulkomuoto', 'ulkona', 'ullakko', 'ullako', 'ullakolla', 'ulos', 'ulottua', 'ulvaa', 'ulvoa', 'ummessa', 'umpe', 'uneen', 'uneksi', 'unelma', 'unesta', 'uni', 'uninen', 'unke', 'unohtaa', 'unohtua', 'upseeri', 'urakoitsija', 'useinpa', 'uskaa', 'uskallan', 'uskaltaa', 'usko', 'uskoa', 'uskollinen', 'uskollisesti', 'uskottu', 'uteliaa', 'uteliaasti', 'utelias', 'uudestaan', 'uuni', 'uutimi', 'uutinen', 'vaahto', 'vaalea', 'vaaleanpunainen', 'vaara', 'vaarallinen', 'vaarasta', 'vaari', 'vaate', 'vaatia', 'vaatte', 'vaatteensa', 'vaattei', 'vaatteit', 'vadi', 'vaeltaa', 'vahinko', 'vahti', 'vahtimestari', 'vahva', 'vahvasti', 'vahvistaa', 'vaieta', 'vaihe', 'vaihtaa', 'vaihtua', 'vaikenee', 'vaikeni', 'vaikeus', 'vaikkapa', 'vaikuttaa', 'vaikutus', 'vaimo', 'vaimoa', 'vainaja', 'vainen', 'vainio', 'vaino', 'vaippa', 'vaipua', 'vaipuneena', 'vaiti', 'vaiva', 'vaivainen', 'vaivata', 'vaivautua', 'vakaa', 'vakaasti', 'vakava', 'vakavasti', 'vakuuttaa', 'vala', 'valaa', 'valaan', 'valaanpyynti', 'valaanpyytäjä', 'valaisi', 'valaista', 'valaita', 'valamiehistö', 'valas', 'valasta', 'valekilpikonna', 'valita', 'valittaa', 'valitti', 'valitus', 'valke', 'valkea', 'valko', 'valkoinen', 'valkoista', 'valkoliivinen', 'vallata', 'vallita', 'valmis', 'valmistaa', 'valmistautua', 'valmistua', 'valo', 'valoisa', 'valta', 'valtainen', 'valtakunta', 'valtameri', 'valtava', 'valua', 'valveilla', 'valvoa', 'vanginvartija', 'vanha', 'vanhanaikainen', 'vanhanpuoleinen', 'vanhempi', 'vanhimma', 'vanhus', 'vanki', 'vankila', 'vankka', 'vankkuri', 'vannoa', 'vanto', 'vapaa', 'vapaasti', 'vapaus', 'vapauttaa', 'vapautua', 'vapiseva', 'vapä', 'vara', 'varahin', 'varas', 'varastaa', 'varhain', 'varja', 'varjele', 'varjelko', 'varjo', 'varjostaa', 'varjot', 'varka', 'varma', 'varmaan', 'varmaankin', 'varmuus', 'varo', 'varoa', 'varoittaa', 'varoituknen', 'varoitus', 'varovainen', 'varovaisesti', 'varovasti', 'varpunen', 'varsinainen', 'varsinkaan', 'vartalo', 'vartija', 'vartoa', 'varustaa', 'vasemmalle', 'vasikka', 'vastahakoisesti', 'vastainen', 'vastapäätä', 'vastasivat', 'vastata', 'vastaus', 'vasten', 'vastenmielinen', 'vastoin', 'vastustaa', 'vati', 'vatsa', 'vauhti', 'vaunu', 'vaunuista', 'vavahtaa', 'vavinen', 'vedellä', 'vehnänen', 'vehnäsiä', 'veijari', 'veikko', 'veikkonen', 'veita', 'veitikka', 'veitikkamainen', 'veitsen', 'veli', 'velje', 'veljeknen', 'veljeksi', 'veljenen', 'veljes', 'veljet', 'veljeä', 'velka', 'velvollisuus', 'velvollisuute', 'velvollisuuteni', 'vene', 'venee', 'veneeseen', 'veneessä', 'veneestä', 'veneet', 'venettä', 'venyä', 'vere', 'vereni', 'verho', 'veri', 'verinen', 'verkalleen', 'verkko', 'verrata', 'vertaa', 'vertaista', 'veräjä', 'veräjällä', 'vesi', 'veteen', 'veto', 'vetäytyä', 'vetää', 'vialla', 'viato', 'viaton', 'vie', 'viedä', 'viedään', 'viehättävä', 'viekas', 'viekö', 'vieläkin', 'vieläpä', 'vieno', 'vieraa', 'vieraansa', 'vieraat', 'vieras', 'vierashuoneen', 'vierashuoneenen', 'viereen', 'viereinen', 'vieressään', 'viettää', 'vievä', 'vieä', 'viha', 'vihainen', 'vihaisesti', 'vihan', 'vihasta', 'vihastua', 'vihata', 'vihdoin', 'viheliäinen', 'viheltää', 'vihertävä', 'vihoissaan', 'vihollinen', 'vihreä', 'vii', 'viides', 'viihtyä', 'viikko', 'viileä', 'viimein', 'viimemainittu', 'viina', 'viini', 'viipy', 'viipyi', 'viipymättä', 'viipyä', 'viisaasti', 'viisain', 'viisainta', 'viisas', 'viisaus', 'viita', 'viitata', 'viitsiä', 'vika', 'vikkelästi', 'vilahtaa', 'vilja', 'vilkaista', 'vilkas', 'villi', 'vilpitön', 'vilppaasti', 'vilu', 'vimma', 'vimmatusti', 'vinkua', 'vinttikamari', 'virittää', 'virka', 'virkahtaa', 'virkka', 'virkkaa', 'virta', 'virtasi', 'viskata', 'visusti', 'vitsa', 'viulu', 'voida', 'voihan', 'voileipä', 'voima', 'voimakas', 'voimakkaasti', 'voimallinen', 'voisit', 'voisitte', 'voita', 'voittaa', 'voitteko', 'voitto', 'vouti', 'vuodattaa', 'vuode', 'vuohi', 'vuore', 'vuori', 'vuoro', 'vuorokausi', 'vuorotellen', 'vuos', 'vuosikaunen', 'vuotaa', 'vuotee', 'vuoteelle', 'vuoteellensa', 'vuoteelta', 'vuoteensa', 'vuoteeseen', 'vuoteessa', 'vähemmin', 'vähintäkään', 'vähitellen', 'vähä', 'vähäinen', 'vähällä', 'vähäpätöinen', 'vähäsen', 'vähät', 'vähääkään', 'väistyä', 'väittää', 'väkevä', 'väki', 'väkisin', 'väl', 'väli', 'väliin', 'välimmi', 'välin', 'välinen', 'välinpitämättömästi', 'välistä', 'välitse', 'välittäkö', 'välittää', 'välttämättä', 'välttämätön', 'välttää', 'väri', 'värinen', 'värisyttää', 'väsyksissä', 'väsyneenä', 'väsynyt', 'vääntaa', 'vääntää', 'väärin', 'väärä', 'yhdentekevä', 'yhdistys', 'yhdistää', 'yhtaikaa', 'yhteinen', 'yhteisesti', 'yhteiskunnanparantaja', 'yhteiskunta', 'yhteys', 'yhtyiä', 'yhtyä', 'yhtäkkiä', 'yksikseen', 'yksimielisesti', 'yksinkertainen', 'yksinkertaisesti', 'yksinomaan', 'yksinpä', 'yksinäinen', 'yksinäise', 'yksinäisyys', 'yksinään', 'yksisilmä', 'yksityinen', 'yleinen', 'yleisö', 'ylempänä', 'ylen', 'ylhää', 'ylhäällä', 'ylhäältä', 'yliluonnollinen', 'ylle', 'ylleen', 'ylli', 'yllyttää', 'yllä', 'yllättää', 'ylpeys', 'ylpeä', 'ylpeästi', 'yltä', 'yläkerta', 'ylöspäin', 'ymmärrä', 'ymmärtää', 'ympärille', 'ympärillensä', 'ympärillä', 'ympärillämme', 'ympäristö', 'ympäröimä', 'ympäröiä', 'yrittää', 'yritys', 'ystävyys', 'ystävä', 'ystäväis', 'ystävälleen', 'ystävällinen', 'ystävällisesti', 'yömyssy', 'yönsä', 'äidi', 'äidille', 'äijä', 'äita', 'äiti', 'äiti-puoli', 'äitimme', 'äitini', 'äitiään', 'äkeä', 'äkillinen', 'äkisti', 'äkkiä', 'äkäinen', 'äkäisesti', 'ällistyä', 'äläkä', 'äläppäs', 'ämmä', 'äreästi', 'ärjäsi', 'ärsyttää', 'ärähtää', 'äskeinen', 'äsken', 'äskettäin', 'ään', 'ääne', 'ääneen', 'äänekkäästi', 'äänellä', 'ääneti', 'äänettömi', 'äänettöminä', 'äänettömyys', 'äänettömä', 'äänettömästi', 'äänetönnä', 'ääni', 'äännähtää', 'ääntään', 'ääretön', 'öinen', 'öisin', 'öljy', 'örähtää']\n"
     ]
    }
   ],
   "source": [
    "# printtaa kaikki sanat, jotka korpuksesta löytyvät:\n",
    "words=list(model.wv.key_to_index.keys())\n",
    "print(sorted(words) ) # sorted järjestää ne aakkosjärjestykseen\n"
   ]
  },
  {
   "cell_type": "code",
   "execution_count": 58,
   "metadata": {
    "colab": {
     "base_uri": "https://localhost:8080/"
    },
    "id": "b4iHqCB53SGS",
    "outputId": "b9f106f3-6154-4df5-b206-01a34040bde9",
    "scrolled": true
   },
   "outputs": [
    {
     "name": "stdout",
     "output_type": "stream",
     "text": [
      "['rinte']\n",
      "[[ 0.01286094 -0.01466171 -0.03906083 -0.01216927  0.01698427  0.05247886\n",
      "   0.03195816  0.23271115 -0.01060854 -0.02183883  0.05441575 -0.01783372\n",
      "  -0.02406518  0.04312985 -0.18544841 -0.02692709  0.09610198 -0.00488692\n",
      "   0.08092853  0.05318581 -0.04184052 -0.0893167   0.13398951  0.09005199\n",
      "   0.06458302 -0.03727978 -0.07764141 -0.06429751 -0.11464549  0.0140676\n",
      "  -0.02512641  0.13256617 -0.06977911 -0.03324849  0.02267065  0.09588963\n",
      "   0.09572399 -0.13073428  0.07849792 -0.00891776  0.00109322  0.06165425\n",
      "  -0.16513814 -0.01925195  0.10243794  0.0246301  -0.02753539 -0.00647835\n",
      "  -0.09357216  0.1703517  -0.04611951  0.05843361 -0.05074454 -0.02582412\n",
      "   0.04717181  0.02105834  0.07834963  0.02512678  0.05384016  0.04236022\n",
      "  -0.05051211 -0.10108789 -0.00402677  0.02738244 -0.06122374  0.02541855\n",
      "   0.00739578 -0.16414876 -0.10671427  0.00632984  0.05244048  0.11113285\n",
      "   0.00966004 -0.16931145 -0.06132707 -0.01384354 -0.09739494  0.12253053\n",
      "  -0.09729322  0.02673545  0.0253258  -0.00916384 -0.09984675  0.2787243\n",
      "  -0.08377525  0.12579082 -0.0391153  -0.05757632  0.10262895 -0.14894278\n",
      "   0.07027594 -0.14736363 -0.08534017  0.08845229  0.10009024 -0.0893713\n",
      "   0.03604422 -0.06092757 -0.06131155  0.10159984 -0.03337087  0.04645212\n",
      "   0.02875141  0.01098423 -0.03518147 -0.20455126  0.09923819  0.03943985\n",
      "  -0.23094499 -0.07150797  0.03990977 -0.01419113 -0.04745339 -0.12982866\n",
      "  -0.06589434  0.04446546  0.08237141  0.08907984  0.08704865 -0.08312473\n",
      "   0.07014916  0.02917166 -0.01721634  0.00575921  0.14821886  0.11602367\n",
      "   0.02417663 -0.04373302  0.00582943  0.03488673  0.08223141  0.16771327\n",
      "  -0.11206043  0.02394072  0.08375461  0.03765766 -0.07511751 -0.08036221\n",
      "  -0.00734424 -0.07084007  0.08918357  0.02145854  0.0538151   0.0398709\n",
      "   0.22841543  0.08317522 -0.1153229  -0.08177117  0.01619987 -0.11271717]]\n"
     ]
    }
   ],
   "source": [
    "# tältä näyttää yksi sana\n",
    "\n",
    "a_word= sample(words,1)\n",
    "print(a_word)\n",
    "print(model.wv[a_word])"
   ]
  },
  {
   "cell_type": "markdown",
   "metadata": {},
   "source": [
    "### Toimivatko analogiat?\n"
   ]
  },
  {
   "cell_type": "code",
   "execution_count": 59,
   "metadata": {
    "colab": {
     "base_uri": "https://localhost:8080/"
    },
    "id": "eSE7zOZr38uf",
    "outputId": "249bab77-28aa-4c28-cea6-2421dcbdec5a"
   },
   "outputs": [
    {
     "name": "stdout",
     "output_type": "stream",
     "text": [
      "[('lapsi', 0.9759836792945862), ('veli', 0.9726880192756653), ('ystävä', 0.9711704254150391), ('täti', 0.9684512615203857), ('ukko', 0.9682508707046509)] \n",
      "\n",
      "[('herra', 0.9781523942947388), ('rouva', 0.9774029850959778), ('ystävä', 0.9694636464118958), ('vastata', 0.9691159129142761), ('neiti', 0.9658707976341248)] \n",
      "\n",
      "[('laiva', 0.9878067970275879), ('veljeknen', 0.9861051440238953), ('tuuli', 0.9837737083435059), ('vene', 0.9835675954818726), ('kukka', 0.9835522770881653)] \n",
      "\n",
      "[('musta', 0.9862765073776245), ('näkyä', 0.9758521914482117), ('valkoinen', 0.9743664264678955), ('punainen', 0.9725748300552368), ('valkea', 0.970385730266571)] \n",
      "\n"
     ]
    }
   ],
   "source": [
    "result = model.wv.most_similar(positive=['isä', 'poika'], negative=['äiti'], topn=5)\n",
    "print(result, \"\\n\")\n",
    "\n",
    "result = model.wv.most_similar(positive=['veli', 'poika'], negative=['sisar'], topn=5)\n",
    "print(result, \"\\n\")\n",
    "\n",
    "result = model.wv.most_similar(positive=['kala', 'vesi'], negative=['lintu'], topn=5)\n",
    "print(result, \"\\n\")\n",
    "\n",
    "\n",
    "result = model.wv.most_similar(positive=['taivas', 'ilma'], negative=['meri'], topn=5)\n",
    "print(result, \"\\n\")\n"
   ]
  },
  {
   "cell_type": "code",
   "execution_count": 62,
   "metadata": {
    "colab": {
     "base_uri": "https://localhost:8080/"
    },
    "id": "S90ztVeh43PH",
    "outputId": "f534f491-0d2c-498b-c020-b676c49ab456"
   },
   "outputs": [
    {
     "data": {
      "text/plain": [
       "[('tuuli', 0.9911205768585205),\n",
       " ('vähitellen', 0.9910450577735901),\n",
       " ('pinta', 0.9907771944999695),\n",
       " ('kirkas', 0.9907158613204956),\n",
       " ('kasvaa', 0.990147590637207),\n",
       " ('lyhyt', 0.9899951815605164),\n",
       " ('liikkua', 0.9899125695228577),\n",
       " ('veljeknen', 0.9898662567138672),\n",
       " ('harmaa', 0.989798903465271),\n",
       " ('puhaltaa', 0.9893892407417297)]"
      ]
     },
     "execution_count": 62,
     "metadata": {},
     "output_type": "execute_result"
    }
   ],
   "source": [
    "# löydä lähimmät sanat\n",
    "model.wv.most_similar(positive=[\"meri\"], topn=10)"
   ]
  },
  {
   "cell_type": "code",
   "execution_count": 63,
   "metadata": {
    "colab": {
     "base_uri": "https://localhost:8080/"
    },
    "id": "IBZ_jDleyNNX",
    "outputId": "e2592e98-efd6-4732-d355-e3ce5b71295d"
   },
   "outputs": [
    {
     "name": "stdout",
     "output_type": "stream",
     "text": [
      "0.94801795\n",
      "0.8329531\n"
     ]
    }
   ],
   "source": [
    "# kokeile eri sanapareja\n",
    "# ovatko etäisyydet loogisia?\n",
    "\n",
    "print(model.wv.similarity('tyttö', 'nainen'))\n",
    "print(model.wv.similarity('tyttö', 'talo'))"
   ]
  },
  {
   "cell_type": "code",
   "execution_count": 77,
   "metadata": {},
   "outputs": [
    {
     "name": "stdout",
     "output_type": "stream",
     "text": [
      "Displaying 10 of 86 matches:\n",
      "kuvaille rottakoira doggia koira naurtaa tuntea vakuutetuks\n",
      "den istunut huone odottama koira tottua käydä herransa jäle\n",
      "iä keppi jokseenkin raskas koira kantanut selvä nähdä hampa\n",
      "nut selvä nähdä hampa jäli koira leuka merkki etäisyys näyt\n",
      "n varma yksinkertainen syy koira seisoa ulkona portaat omis\n",
      "kertomus riittää puhe suku koira tilaisuudesta näyttäytyä p\n",
      "rottaa ääni sanoa yllyttää koira jälilleen kuulla juosta ul\n",
      "tsisia tamma laskisia irti koira tapahtua koira haistaa hui\n",
      "skisia irti koira tapahtua koira haistaa huiva tyttö pudott\n",
      "tsastaa saavuttiva vihdoin koira tunneta rohkeudesta erinom\n"
     ]
    }
   ],
   "source": [
    "# katsahdus kontekstiin\n",
    "from nltk.text import Text\n",
    "\n",
    "# nimeä vaihtamalla voit tutkia eri romaaneja\n",
    "nimi=\"melville_valas\"\n",
    "test_text=Text(novels[nimi].split())\n",
    "\n",
    "test_text.concordance(\"valas\", 60,lines=10) # kokeile valaan paikalla muita sanoja\n",
    "\n",
    "# paljastavatko sanat jotakin olennaista valaasta?"
   ]
  },
  {
   "cell_type": "markdown",
   "metadata": {
    "id": "Gd_fUm1tX7vy"
   },
   "source": [
    "## Stylometria"
   ]
  },
  {
   "cell_type": "markdown",
   "metadata": {},
   "source": [
    "### Tehtävä 1: tekstien tyylipiirteitä"
   ]
  },
  {
   "cell_type": "code",
   "execution_count": 80,
   "metadata": {
    "colab": {
     "base_uri": "https://localhost:8080/"
    },
    "id": "PTAq344TnGN5",
    "outputId": "4401ff9a-40ca-4c8b-e1b6-e878174dff9a"
   },
   "outputs": [
    {
     "name": "stdout",
     "output_type": "stream",
     "text": [
      "kianto_muistlemia\n",
      "gulliverin_matkat\n",
      "tarzan\n",
      "pikku_naisia\n",
      "ylpeys_ja_ennakkoluulo\n",
      "peter_pan\n"
     ]
    }
   ],
   "source": [
    "# lataa uusi korpus\n",
    "\n",
    "fp = \"digikirjallisuus/data/stylo_1/\"\n",
    "texts=glob.glob(str(fp+\"*.txt\"))\n",
    "\n",
    "\n",
    "corpus={}\n",
    "for t in texts:\n",
    "    name= t.split(\"/\")[-1].replace(\".txt\",\"\")\n",
    "    print(name)\n",
    "    with open(t, encoding='utf-8') as fp:\n",
    "        \n",
    "        txt=fp.read()\n",
    "        txt=txt.replace(\"\\n\", \" \")\n",
    "    corpus[name]=txt\n",
    "\n"
   ]
  },
  {
   "cell_type": "code",
   "execution_count": 82,
   "metadata": {
    "id": "ZUMvCUSvnbAb"
   },
   "outputs": [],
   "source": [
    "# aputyökaluja\n",
    "from digikirjallisuus.stylometryutils import CustomStatTransformer\n",
    "from sklearn.pipeline import Pipeline\n",
    "\n",
    "\n",
    "# analyst on tekstianalyytikkomme\n",
    "analyst=CustomStatTransformer()\n",
    "\n",
    "my_pipeline  = Pipeline(\n",
    "    steps=[\n",
    "        (\"stats\", analyst),\n",
    "    ]\n",
    ")\n",
    "\n",
    "# analysoi korpus\n",
    "texts = [\" \".join(v.split()[:5000]) for v in corpus.values()]\n",
    "fts = my_pipeline.fit_transform(texts) \n"
   ]
  },
  {
   "cell_type": "markdown",
   "metadata": {},
   "source": [
    "Analysaattori käsittelee jokaisen tekstin ja laskee siitä halutut ominaisuudet.\n",
    "\n",
    "Selitykset:\n",
    "- TTR eli Type-Token ratio = kuinka monta uniikkia sanaa (type) kokonaissanamäärään verrattuna. Mitä suurempi arvo, sen rikkaampi on tekstin sanasto. Arvo vaihtelee välillä 0 ja 1.\n",
    "- MATTR = sama kuin edellinen, mutta laskettuna katkelmista läpi tekstin, jottei romaanin kokonaispituus vääristä tulosta.\n",
    "- \"verbejä\" kertoo kuinka moni romaanin sanoista on sanaluokaltaan verbejä.\n",
    "- \"adjektiiveja\" kertoo saman suhdeluvun adjektiiveista.\n",
    "- lausepituus on keskimääräinen lausepituus."
   ]
  },
  {
   "cell_type": "code",
   "execution_count": 85,
   "metadata": {
    "scrolled": true
   },
   "outputs": [
    {
     "name": "stdout",
     "output_type": "stream",
     "text": [
      "kianto_muistlemia\n",
      "TTR 0.522\n",
      "MATTR 0.788\n",
      "verbejä 0.16\n",
      "adjektiiveja 0.079\n",
      "lausepituus: 17.323\n",
      "\n",
      "\n",
      "gulliverin_matkat\n",
      "TTR 0.55\n",
      "MATTR 0.809\n",
      "verbejä 0.167\n",
      "adjektiiveja 0.073\n",
      "lausepituus: 17.593\n",
      "\n",
      "\n",
      "tarzan\n",
      "TTR 0.537\n",
      "MATTR 0.803\n",
      "verbejä 0.176\n",
      "adjektiiveja 0.075\n",
      "lausepituus: 18.905\n",
      "\n",
      "\n",
      "pikku_naisia\n",
      "TTR 0.527\n",
      "MATTR 0.779\n",
      "verbejä 0.182\n",
      "adjektiiveja 0.078\n",
      "lausepituus: 16.344\n",
      "\n",
      "\n",
      "ylpeys_ja_ennakkoluulo\n",
      "TTR 0.465\n",
      "MATTR 0.765\n",
      "verbejä 0.161\n",
      "adjektiiveja 0.078\n",
      "lausepituus: 18.38\n",
      "\n",
      "\n",
      "peter_pan\n",
      "TTR 0.439\n",
      "MATTR 0.727\n",
      "verbejä 0.19\n",
      "adjektiiveja 0.067\n",
      "lausepituus: 13.178\n",
      "\n",
      "\n"
     ]
    }
   ],
   "source": [
    "for i,v in enumerate(fts.values()):\n",
    "    print(list(corpus.keys())[i])\n",
    "    print(\"TTR\", round(v[\"ttr\"],3))\n",
    "    print(\"MATTR\", round(v[\"mattr\"],3))\n",
    "    print(\"verbejä\", round(v[\"verb_fraction\"],3))\n",
    "    print(\"adjektiiveja\", round(v[\"adj_fraction\"],3))\n",
    "    print(\"lausepituus:\", round(v[\"mean_sent_length\"],3))\n",
    "    print(\"\\n\")\n",
    "    \n",
    "# Mitä tulokset kertovat (jos mitään)?"
   ]
  },
  {
   "cell_type": "markdown",
   "metadata": {},
   "source": [
    "## Tehtävä 2"
   ]
  },
  {
   "cell_type": "markdown",
   "metadata": {},
   "source": [
    "Vertaile kahden suomalaisen kirjailijan, Juhani Ahon ja Ilmari Kiannon tekstejä.\n",
    "VOisiko algoritmi päätellä tuntemattoman tekstin kirjailijan?"
   ]
  },
  {
   "cell_type": "code",
   "execution_count": 86,
   "metadata": {},
   "outputs": [],
   "source": [
    "import scipy.spatial.distance as scidist\n",
    "import sklearn.model_selection as model_selection\n",
    "import sklearn.feature_extraction.text as sktext\n",
    "import sklearn.preprocessing as preprocessing\n",
    "from digikirjallisuus.styloutils import *\n"
   ]
  },
  {
   "cell_type": "code",
   "execution_count": 112,
   "metadata": {},
   "outputs": [
    {
     "name": "stdout",
     "output_type": "stream",
     "text": [
      "kianto_punainen_viiva_train\n",
      "['1', 'mikä', 'ääretö', 'hiljaisuus', 'vallitsikaan']\n",
      "aho_1_train\n",
      "['i.', 'elli', 'olla', 'hän', 'nimi']\n",
      "kianto_nirvana_train\n",
      "['1.', '.', 'ihana', 'kevät', ',']\n",
      "kianto_vanha_pappila_train\n",
      "['1.', '.', 'vinttikamarikirja', '.', 'motto']\n",
      "aho_2_train\n",
      "['i.', 'mies', '--', 'pitkäselkä', ',']\n",
      "aho_rautatie_train\n",
      "['i.', 'pakkanen', 'paukka', 'nurkka', ',']\n"
     ]
    }
   ],
   "source": [
    "# lataa tunnetut teokset\n",
    "\n",
    "fp = \"digikirjallisuus/data/stylometria_data/\"\n",
    "texts=glob.glob(str(fp+\"*train.txt\"))\n",
    "\n",
    "# jokainen kirja ladataan 5000 sanan pätkinä, \n",
    "# jottei eriävä pituus vaikuttaisi tuloksiin\n",
    "train_documents, train_authors, train_titles=load_texts(texts, 5000) \n",
    "\n",
    "# sanojen sijaan vektoreita koko tekstistä\n",
    "vectorizer = sktext.CountVectorizer(max_features=40,token_pattern=r\"(?u)\\b\\w+\\b\")\n",
    "v_train_documents = vectorizer.fit_transform(train_documents).toarray()\n",
    "v_train_documents = preprocessing.normalize(v_train_documents.astype(float), norm='l1')\n",
    "\n",
    "\n",
    "print(\"\\n funktiosanoja, joiden avulla kirjailijat voisi erottaa toisistaan:\")\n",
    "print(vectorizer.get_feature_names_out()[:10])\n",
    "delta = Delta().fit(v_train_documents, train_authors)"
   ]
  },
  {
   "cell_type": "code",
   "execution_count": 115,
   "metadata": {},
   "outputs": [
    {
     "name": "stdout",
     "output_type": "stream",
     "text": [
      "unknown\n"
     ]
    }
   ],
   "source": [
    "# lataa tuntematon kirjailija\n",
    "\n",
    "f=\"digikirjallisuus/data/stylometria_data/unknown.txt\"\n",
    "test_docs, test_authors, test_titles = load_text(f,5000)\n",
    "v_test_docs = vectorizer.transform(test_docs).toarray()\n",
    "v_test_docs = preprocessing.normalize(v_test_docs.astype(float), norm='l1')"
   ]
  },
  {
   "cell_type": "markdown",
   "metadata": {},
   "source": [
    "Tässä vaiheessa voisit myös avata tekstitiedoston ja vertailla sitä Ahon ja Kiannon teoksiin.\n",
    "\n",
    "Kumman käsialaa luulisit sen olevan?"
   ]
  },
  {
   "cell_type": "code",
   "execution_count": 116,
   "metadata": {
    "scrolled": true
   },
   "outputs": [
    {
     "name": "stdout",
     "output_type": "stream",
     "text": [
      "unknown -> kianto\n",
      "unknown -> kianto\n",
      "unknown -> kianto\n",
      "unknown -> kianto\n",
      "unknown -> kianto\n",
      "unknown -> kianto\n"
     ]
    }
   ],
   "source": [
    "# Annetaan algoritmin ennustaa!\n",
    "\n",
    "predictions = delta.predict(v_test_docs, metric='cosine')\n",
    "for filename, prediction in zip(test_titles, predictions):\n",
    "    print(f'{filename} -> {prediction}')"
   ]
  },
  {
   "cell_type": "code",
   "execution_count": 117,
   "metadata": {},
   "outputs": [
    {
     "name": "stdout",
     "output_type": "stream",
     "text": [
      "N=42 documents with V=35258 features.\n"
     ]
    }
   ],
   "source": [
    "## clustering\n",
    "\n",
    "vectorizer = sktext.CountVectorizer(token_pattern=r\"(?u)\\b\\w+\\b\")#, vocabulary=vocab)\n",
    "\n",
    "v_documents = vectorizer.fit_transform(train_documents).toarray()\n",
    "v_documents = preprocessing.normalize(v_documents.astype(np.float64), 'l1')\n",
    "scaler = preprocessing.StandardScaler()\n",
    "v_documents = scaler.fit_transform(v_documents)\n",
    "\n",
    "print(f'N={v_documents.shape[0]} documents with '\n",
    "      f'V={v_documents.shape[1]} features.')"
   ]
  },
  {
   "cell_type": "markdown",
   "metadata": {},
   "source": [
    "### Hierarkkinen klusterianalyysi\n",
    "\n",
    "Kuvaaja haarautuu sen mukaan, miten lähellä toisiaan tekstit ovat."
   ]
  },
  {
   "cell_type": "code",
   "execution_count": 121,
   "metadata": {
    "scrolled": false
   },
   "outputs": [
    {
     "data": {
      "image/png": "[encoded data removed]",
      "text/plain": [
       "<Figure size 864x360 with 1 Axes>"
      ]
     },
     "metadata": {
      "needs_background": "light"
     },
     "output_type": "display_data"
    }
   ],
   "source": [
    "import matplotlib.pyplot as plt\n",
    "import scipy.cluster.hierarchy as hierarchy\n",
    "\n",
    "def plot_tree(linkage_object, labels, figsize=(10, 5), ax=None):\n",
    "    if ax is None:\n",
    "        fig, ax = plt.subplots(figsize=figsize)\n",
    "    with plt.rc_context({'lines.linewidth': 1.0}):\n",
    "        hierarchy.dendrogram(\n",
    "            linkage_object, labels=labels, ax=ax,\n",
    "            link_color_func=lambda c: 'black',\n",
    "            leaf_font_size=10, leaf_rotation=90)\n",
    "    # Remove ticks and spines\n",
    "    ax.xaxis.set_ticks_position('none')\n",
    "    ax.yaxis.set_ticks_position('none')\n",
    "    for s in ax.spines.values():\n",
    "        s.set_visible(False)\n",
    "\n",
    "v_test_docs = vectorizer.transform(test_docs[1:])\n",
    "v_test_docs = preprocessing.normalize(v_test_docs.astype(float), norm='l1')\n",
    "v_test_docs = scaler.transform(v_test_docs.toarray())\n",
    "\n",
    "all_documents = np.vstack((v_documents, v_test_docs))\n",
    "\n",
    "dm = scidist.pdist(all_documents, 'cosine')\n",
    "linkage_object = hierarchy.linkage(dm, method='complete')\n",
    "\n",
    "plot_tree(linkage_object, train_authors + test_titles[1:], figsize=(12, 5))"
   ]
  },
  {
   "cell_type": "markdown",
   "metadata": {},
   "source": [
    "### PCA \n",
    "\n",
    "Moniulotteiset tekstivektorit voidaan redusoida kaksiulotteisiksi PCA-menetelmällä (Principal Component Analysis)"
   ]
  },
  {
   "cell_type": "code",
   "execution_count": 126,
   "metadata": {
    "scrolled": false
   },
   "outputs": [
    {
     "name": "stdout",
     "output_type": "stream",
     "text": [
      "alkuperäinen ulottuvuusmäärä: 35258\n",
      "redusoitu ulottuvuusmäärä: 2\n"
     ]
    }
   ],
   "source": [
    "# PCA\n",
    "\n",
    "import sklearn.decomposition\n",
    "\n",
    "pca = sklearn.decomposition.PCA(n_components=2)\n",
    "documents_proj = pca.fit_transform(v_documents)\n",
    "\n",
    "print(\"alkuperäinen ulottuvuusmäärä:\", v_documents.shape[1])\n",
    "print(\"redusoitu ulottuvuusmäärä:\", documents_proj.shape[1])"
   ]
  },
  {
   "cell_type": "markdown",
   "metadata": {},
   "source": [
    "Piirrä redusoidut vektorit kuvaajaan. Kumpikin kirjailija saa tässä kuvassa oman värinsä.\n",
    "Vaihtamalla sanoja voit kokeilla, miten eri funktiosanojen käyttö jakaa kirjailijoiden tyylejä:"
   ]
  },
  {
   "cell_type": "code",
   "execution_count": 130,
   "metadata": {},
   "outputs": [
    {
     "data": {
      "image/png": "[encoded data removed]",
      "text/plain": [
       "<Figure size 432x288 with 1 Axes>"
      ]
     },
     "metadata": {
      "needs_background": "light"
     },
     "output_type": "display_data"
    }
   ],
   "source": [
    "words = list(vectorizer.get_feature_names_out())\n",
    "authors = np.array(train_authors)\n",
    "\n",
    "# kokeile eri sanoja tähän:\n",
    "sana_1=\"ja\"\n",
    "sana_2=\"vaikka\"\n",
    "x = v_documents[:, words.index(sana_1)]\n",
    "y = v_documents[:, words.index(sana_2)]\n",
    "\n",
    "fig, ax = plt.subplots()\n",
    "for author in set(authors):\n",
    "    ax.scatter(x[authors==author], y[authors==author], label=author)\n",
    "ax.set(xlabel=sana_1, ylabel=sana_2)\n",
    "plt.legend();"
   ]
  },
  {
   "cell_type": "markdown",
   "metadata": {
    "id": "bgdGHhFimfcT"
   },
   "source": [
    "## Kvantitatiivinen draaman kaari"
   ]
  },
  {
   "cell_type": "markdown",
   "metadata": {},
   "source": [
    "Samoin kuin muita merkityksiä, sanoihin assosioituu myös tunteita. \n",
    "Tätä positiivista tai negatiivista assosiaatiota voi mallintaa koneellisesti numeerisin arvoin.\n",
    "On havaittu, että näitä arvoja käyttämällä voi mallintaa tarinan draaman kaaren kehitystä.\n",
    "Ajatus perustuu siihen, että mitä jännittävämmäksi tai surullisemmaksi juoni muuttuu, sitä negatiivisempaa on myös käytetty sanasto."
   ]
  },
  {
   "cell_type": "code",
   "execution_count": 137,
   "metadata": {},
   "outputs": [
    {
     "name": "stdout",
     "output_type": "stream",
     "text": [
      "['austen-emma.txt', 'austen-persuasion.txt', 'austen-sense.txt', 'bible-kjv.txt', 'blake-poems.txt', 'bryant-stories.txt', 'burgess-busterbrown.txt', 'carroll-alice.txt', 'chesterton-ball.txt', 'chesterton-brown.txt', 'chesterton-thursday.txt', 'edgeworth-parents.txt', 'melville-moby_dick.txt', 'milton-paradise.txt', 'shakespeare-caesar.txt', 'shakespeare-hamlet.txt', 'shakespeare-macbeth.txt', 'whitman-leaves.txt'] \n",
      "\n"
     ]
    },
    {
     "name": "stderr",
     "output_type": "stream",
     "text": [
      "[nltk_data] Downloading package punkt to\n",
      "[nltk_data]     /u/98/peurat1/unix/nltk_data...\n",
      "[nltk_data]   Package punkt is already up-to-date!\n",
      "[nltk_data] Downloading package vader_lexicon to\n",
      "[nltk_data]     /u/98/peurat1/unix/nltk_data...\n",
      "[nltk_data]   Package vader_lexicon is already up-to-date!\n"
     ]
    }
   ],
   "source": [
    "# aputyökaluja\n",
    "\n",
    "import nltk\n",
    "nltk.download('gutenberg')\n",
    "from nltk.corpus import gutenberg\n",
    "nltk.download('punkt')\n",
    "from nltk.tokenize import sent_tokenize\n",
    "nltk.download('vader_lexicon')\n",
    "import re\n",
    "\n",
    "# color words\n",
    "import spacy\n",
    "nlp_eng = spacy.load(\"en_core_web_sm\")\n",
    "import json\n",
    "from digikirjallisuus.dacycolorizer import color_text\n",
    "\n",
    "# tämä tehtävä toteutetaan englanniksi, ja voit valita seuraavista teksteistä:\n",
    "print(gutenberg.fileids(), \"\\n\")"
   ]
  },
  {
   "cell_type": "code",
   "execution_count": 138,
   "metadata": {},
   "outputs": [
    {
     "name": "stdout",
     "output_type": "stream",
     "text": [
      "shakespeare-macbeth.txt\n",
      " Actus Primus. Scoena Prima. Thunder and Lightning \n",
      "\n"
     ]
    }
   ],
   "source": [
    "book= 'shakespeare-macbeth.txt' # valitse tähän haluamasi kirja\n",
    "    \n",
    "\n",
    "novel = nltk.corpus.gutenberg.raw(book)\n",
    "start_index = novel.find(\"]\") +1\n",
    "print(book)\n",
    "novel=novel[start_index:]\n",
    "pattern = re.compile(r'\\s+')\n",
    "novel = re.sub(pattern, ' ', novel)\n",
    "print(novel[:50], \"\\n\")\n",
    "\n",
    "# get sentences\n",
    "sentences = sent_tokenize(novel)\n",
    "for s in sentences[:3]:\n",
    "    print(s, \"\\n\")"
   ]
  },
  {
   "cell_type": "code",
   "execution_count": 140,
   "metadata": {
    "scrolled": true
   },
   "outputs": [],
   "source": [
    "# valmistellaan tunneanaöysaattori\n",
    "\n",
    "from nltk.sentiment.vader import SentimentIntensityAnalyzer\n",
    "\n",
    "vadAnalyzer = SentimentIntensityAnalyzer()\n",
    "\n",
    "from digikirjallisuus.helpers import *"
   ]
  },
  {
   "cell_type": "code",
   "execution_count": 141,
   "metadata": {},
   "outputs": [],
   "source": [
    "# Hae tunnesanakirjasta numeeriset arvot \n",
    "\n",
    "sentiments = []\n",
    "vad_scores =[]\n",
    "\n",
    "# toista jokaiselle lauseelle:\n",
    "for s in sentences:\n",
    "    vad_s = vadAnalyzer.polarity_scores(s)\n",
    "    \n",
    "    \n",
    "Hs,arcs = [],[]\n",
    "\n",
    "res= {}\n",
    "\n",
    "vad_arc =[]\n",
    "\n",
    "for s in sentences:\n",
    "    vad_s = vadAnalyzer.polarity_scores(s.lower())[\"compound\"]\n",
    "    vad_arc.append(vad_s)\n",
    "    \n",
    "vad_h = get_Hurst(vad_arc)\n",
    "\n",
    "\n",
    "res = {\"Hurst_vad\":vad_h, \"arc_vad\": vad_arc}\n",
    "\n",
    "# piirrä kuvaaja\n",
    "\n",
    "story_arc = res[\"arc_vad\"]\n",
    "draw_figure(story_arc, \"\", book.replace(\".txt\",\"\").replace(\"_\",\" \"))"
   ]
  },
  {
   "cell_type": "markdown",
   "metadata": {},
   "source": [
    "Minkälaiset sanat ovat \"sanakirjassa\"? Kokeile eri tekstipätkiä!"
   ]
  },
  {
   "cell_type": "code",
   "execution_count": 150,
   "metadata": {},
   "outputs": [
    {
     "data": {
      "text/html": [
       "<span class=\"tex2jax_ignore\"><div class=\"entities\" style=\"line-height: 2.5; direction: ltr\">or to that the multiplying villanies of nature doe swarme vpon him) from the westerne isles of kernes and gallowgrosses is supply'd, and fortune on his \n",
       "<mark class=\"entity\" style=\"background: #f7854e; \n",
       "padding: 0.45em 0.6em; margin: 0 0.25em; \n",
       "line-height: 1; border-radius: 0.35em; \n",
       "box-decoration-break: clone; \n",
       "-webkit-box-decoration-break: clone\">\n",
       "    damned\n",
       "</mark>\n",
       " quarry \n",
       "<mark class=\"entity\" style=\"background: #ccea83; \n",
       "padding: 0.45em 0.6em; margin: 0 0.25em; \n",
       "line-height: 1; border-radius: 0.35em; \n",
       "box-decoration-break: clone; \n",
       "-webkit-box-decoration-break: clone\">\n",
       "    smiling\n",
       "</mark>\n",
       ", shew'd \n",
       "<mark class=\"entity\" style=\"background: #ccea83; \n",
       "padding: 0.45em 0.6em; margin: 0 0.25em; \n",
       "line-height: 1; border-radius: 0.35em; \n",
       "box-decoration-break: clone; \n",
       "-webkit-box-decoration-break: clone\">\n",
       "    like\n",
       "</mark>\n",
       " a rebells \n",
       "<mark class=\"entity\" style=\"background: #b20c26; \n",
       "padding: 0.45em 0.6em; margin: 0 0.25em; \n",
       "line-height: 1; border-radius: 0.35em; \n",
       "box-decoration-break: clone; \n",
       "-webkit-box-decoration-break: clone\">\n",
       "    whore\n",
       "</mark>\n",
       ": but all's too weake: for braue macbeth (\n",
       "<mark class=\"entity\" style=\"background: #e2f398; \n",
       "padding: 0.45em 0.6em; margin: 0 0.25em; \n",
       "line-height: 1; border-radius: 0.35em; \n",
       "box-decoration-break: clone; \n",
       "-webkit-box-decoration-break: clone\">\n",
       "    well\n",
       "</mark>\n",
       " hee deserues that name) disdayning fortune, with his brandisht steele, which smoak'd with \n",
       "<mark class=\"entity\" style=\"background: #f46d43; \n",
       "padding: 0.45em 0.6em; margin: 0 0.25em; \n",
       "line-height: 1; border-radius: 0.35em; \n",
       "box-decoration-break: clone; \n",
       "-webkit-box-decoration-break: clone\">\n",
       "    bloody\n",
       "</mark>\n",
       " execution (\n",
       "<mark class=\"entity\" style=\"background: #ccea83; \n",
       "padding: 0.45em 0.6em; margin: 0 0.25em; \n",
       "line-height: 1; border-radius: 0.35em; \n",
       "box-decoration-break: clone; \n",
       "-webkit-box-decoration-break: clone\">\n",
       "    like\n",
       "</mark>\n",
       " valours minion) caru'd out his passage, till hee fac'd the slaue: which neu'r shooke \n",
       "<mark class=\"entity\" style=\"background: #9ed669; \n",
       "padding: 0.45em 0.6em; margin: 0 0.25em; \n",
       "line-height: 1; border-radius: 0.35em; \n",
       "box-decoration-break: clone; \n",
       "-webkit-box-decoration-break: clone\">\n",
       "    hands\n",
       "</mark>\n",
       ", nor \n",
       "<mark class=\"entity\" style=\"background: #de3f2e; \n",
       "padding: 0.45em 0.6em; margin: 0 0.25em; \n",
       "line-height: 1; border-radius: 0.35em; \n",
       "box-decoration-break: clone; \n",
       "-webkit-box-decoration-break: clone\">\n",
       "    bad\n",
       "</mark>\n",
       " farwell to him, till he vnseam'd him from the naue toth' chops, and fix'd his head vpon our \n",
       "<mark class=\"entity\" style=\"background: #feda86; \n",
       "padding: 0.45em 0.6em; margin: 0 0.25em; \n",
       "line-height: 1; border-radius: 0.35em; \n",
       "box-decoration-break: clone; \n",
       "-webkit-box-decoration-break: clone\">\n",
       "    battlements\n",
       "</mark>\n",
       " king. o valiant cousin, \n",
       "<mark class=\"entity\" style=\"background: #b3de72; \n",
       "padding: 0.45em 0.6em; margin: 0 0.25em; \n",
       "line-height: 1; border-radius: 0.35em; \n",
       "box-decoration-break: clone; \n",
       "-webkit-box-decoration-break: clone\">\n",
       "    worthy\n",
       "</mark>\n",
       " gentleman cap. as whence the sunne 'gins his reflection, shipwracking stormes, and direfull thunders: so from that spring, whence \n",
       "<mark class=\"entity\" style=\"background: #ccea83; \n",
       "padding: 0.45em 0.6em; margin: 0 0.25em; \n",
       "line-height: 1; border-radius: 0.35em; \n",
       "box-decoration-break: clone; \n",
       "-webkit-box-decoration-break: clone\">\n",
       "    comfort\n",
       "</mark>\n",
       " seem'd to come, \n",
       "<mark class=\"entity\" style=\"background: #f57547; \n",
       "padding: 0.45em 0.6em; margin: 0 0.25em; \n",
       "line-height: 1; border-radius: 0.35em; \n",
       "box-decoration-break: clone; \n",
       "-webkit-box-decoration-break: clone\">\n",
       "    discomfort\n",
       "</mark>\n",
       " swells: marke king of scotland, marke, \n",
       "<mark class=\"entity\" style=\"background: #fca65d; \n",
       "padding: 0.45em 0.6em; margin: 0 0.25em; \n",
       "line-height: 1; border-radius: 0.35em; \n",
       "box-decoration-break: clone; \n",
       "-webkit-box-decoration-break: clone\">\n",
       "    no\n",
       "</mark>\n",
       " sooner iustice had, with valour arm'd, compell'd these skipping kernes to \n",
       "<mark class=\"entity\" style=\"background: #96d268; \n",
       "padding: 0.45em 0.6em; margin: 0 0.25em; \n",
       "line-height: 1; border-radius: 0.35em; \n",
       "box-decoration-break: clone; \n",
       "-webkit-box-decoration-break: clone\">\n",
       "    trust\n",
       "</mark>\n",
       " their heeles, but the norweyan lord, surueying vantage, with furbusht armes, and new supplyes of men, began a \n",
       "<mark class=\"entity\" style=\"background: #d9ef8b; \n",
       "padding: 0.45em 0.6em; margin: 0 0.25em; \n",
       "line-height: 1; border-radius: 0.35em; \n",
       "box-decoration-break: clone; \n",
       "-webkit-box-decoration-break: clone\">\n",
       "    fresh\n",
       "</mark>\n",
       "</div></span>"
      ],
      "text/plain": [
       "<IPython.core.display.HTML object>"
      ]
     },
     "metadata": {},
     "output_type": "display_data"
    }
   ],
   "source": [
    "# värjää tekstiä sanakirjaosumien mukaan\n",
    "# ovatko värit oikein? Puuttuuko jotakin olennaista?\n",
    "colortxt=color_text(novel[1000:2000], nlp_eng, \"plot\")"
   ]
  }
 ],
 "metadata": {
  "colab": {
   "provenance": []
  },
  "kernelspec": {
   "display_name": "Python 3.8.10 64-bit",
   "language": "python",
   "name": "python3"
  },
  "language_info": {
   "codemirror_mode": {
    "name": "ipython",
    "version": 3
   },
   "file_extension": ".py",
   "mimetype": "text/x-python",
   "name": "python",
   "nbconvert_exporter": "python",
   "pygments_lexer": "ipython3",
   "version": "3.8.10"
  },
  "vscode": {
   "interpreter": {
    "hash": "916dbcbb3f70747c44a77c7bcd40155683ae19c65e1c03b4aa3499c5328201f1"
   }
  }
 },
 "nbformat": 4,
 "nbformat_minor": 1
}
